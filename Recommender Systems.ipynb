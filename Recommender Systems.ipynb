{
 "cells": [
  {
   "cell_type": "code",
   "execution_count": 2,
   "metadata": {},
   "outputs": [
    {
     "name": "stderr",
     "output_type": "stream",
     "text": [
      "C:\\ProgramData\\Anaconda3\\lib\\site-packages\\fuzzywuzzy\\fuzz.py:11: UserWarning: Using slow pure-python SequenceMatcher. Install python-Levenshtein to remove this warning\n",
      "  warnings.warn('Using slow pure-python SequenceMatcher. Install python-Levenshtein to remove this warning')\n"
     ]
    }
   ],
   "source": [
    "import numpy as np\n",
    "import pandas as pd\n",
    "import string\n",
    "\n",
    "import matplotlib.pyplot as plt\n",
    "import seaborn as sns\n",
    "\n",
    "sns.set_palette([\n",
    "    \"#30a2da\",\n",
    "    \"#fc4f30\",\n",
    "    \"#e5ae38\",\n",
    "    \"#6d904f\",\n",
    "    \"#8b8b8b\",\n",
    "])\n",
    "sns.set_style('whitegrid')\n",
    "# Alternate #\n",
    "plt.style.use('fivethirtyeight')\n",
    "\n",
    "\n",
    "%matplotlib inline\n",
    "\n",
    "import os\n",
    "\n",
    "import re\n",
    "import nltk\n",
    "\n",
    "from fuzzywuzzy import fuzz\n",
    "\n",
    "import math\n",
    "\n",
    "from scipy.sparse import csr_matrix\n",
    "from sklearn.neighbors import NearestNeighbors # implements unsupervised nearest neighbors learning. \n",
    "\n",
    "\n",
    "from sklearn.feature_extraction.text import CountVectorizer\n",
    "from sklearn.metrics.pairwise import cosine_similarity"
   ]
  },
  {
   "cell_type": "code",
   "execution_count": 179,
   "metadata": {},
   "outputs": [
    {
     "data": {
      "image/png": "[encoded data removed]",
      "text/plain": [
       "<Figure size 360x72 with 1 Axes>"
      ]
     },
     "metadata": {
      "needs_background": "light"
     },
     "output_type": "display_data"
    }
   ],
   "source": [
    "five_thirty_eight = [\n",
    "    \"#30a2da\",\n",
    "    \"#fc4f30\",\n",
    "    \"#e5ae38\",\n",
    "    \"#6d904f\",\n",
    "    \"#8b8b8b\",\n",
    "]\n",
    "\n",
    "sns.set_palette(five_thirty_eight)\n",
    "sns.palplot(sns.color_palette())\n",
    "plt.show()"
   ]
  },
  {
   "cell_type": "code",
   "execution_count": 2,
   "metadata": {},
   "outputs": [
    {
     "data": {
      "text/plain": [
       "['.ipynb_checkpoints',\n",
       " 'genome_scores.csv',\n",
       " 'genome_tags.csv',\n",
       " 'link.csv',\n",
       " 'movie.csv',\n",
       " 'movielens-20m-dataset.zip',\n",
       " 'rating.csv',\n",
       " 'tag.csv',\n",
       " 'Untitled.ipynb']"
      ]
     },
     "execution_count": 2,
     "metadata": {},
     "output_type": "execute_result"
    }
   ],
   "source": [
    "os.listdir()"
   ]
  },
  {
   "cell_type": "code",
   "execution_count": 3,
   "metadata": {},
   "outputs": [],
   "source": [
    "movie = pd.read_csv('movie.csv')\n",
    "ratings = pd.read_csv('rating.csv')\n",
    "genome_score = pd.read_csv('genome_scores.csv') # contains movieId, tagid and their relevance\n",
    "genome = pd.read_csv(\"genome_tags.csv\") # contains tags with their ids\n",
    "tag = pd.read_csv('tag.csv') #"
   ]
  },
  {
   "cell_type": "code",
   "execution_count": 3,
   "metadata": {},
   "outputs": [
    {
     "data": {
      "text/plain": [
       "27278"
      ]
     },
     "execution_count": 3,
     "metadata": {},
     "output_type": "execute_result"
    }
   ],
   "source": [
    "len(movie.movieId.unique())"
   ]
  },
  {
   "cell_type": "code",
   "execution_count": 4,
   "metadata": {},
   "outputs": [
    {
     "name": "stdout",
     "output_type": "stream",
     "text": [
      "Movie Data Frame: (27278, 3)\n",
      "Ratings Data Frame: (20000263, 4)\n",
      "Genome Score Data Frame: (11709768, 3)\n",
      "Genome Data Frame: (1128, 2)\n",
      "Tag Data Frame: (465564, 4)\n",
      "----------------------------------------\n",
      "\n",
      "\n",
      "Total movie titles in Movie dataset: 27278\n",
      "Total movie titles in Ratings dataset: 26744\n"
     ]
    }
   ],
   "source": [
    "print('Movie Data Frame:', movie.shape)\n",
    "print('Ratings Data Frame:', ratings.shape)\n",
    "print('Genome Score Data Frame:', genome_score.shape)\n",
    "print('Genome Data Frame:', genome.shape)\n",
    "print('Tag Data Frame:', tag.shape)\n",
    "\n",
    "print('--'*20)\n",
    "print('\\n')\n",
    "print('Total movie titles in Movie dataset:',len(movie.movieId.unique()))\n",
    "print('Total movie titles in Ratings dataset:',len(ratings.movieId.unique()))"
   ]
  },
  {
   "cell_type": "markdown",
   "metadata": {},
   "source": [
    "It seems that there are around 500 something movies that are not in our Ratings dataset. Let's find those. "
   ]
  },
  {
   "cell_type": "code",
   "execution_count": 34,
   "metadata": {},
   "outputs": [],
   "source": [
    "aa = list(avg_rating.movieId)\n",
    "bb = list(movie.movieId)\n",
    "cc = [w for w in bb if w not in aa]"
   ]
  },
  {
   "cell_type": "code",
   "execution_count": 36,
   "metadata": {
    "scrolled": true
   },
   "outputs": [
    {
     "data": {
      "text/html": [
       "<div>\n",
       "<style scoped>\n",
       "    .dataframe tbody tr th:only-of-type {\n",
       "        vertical-align: middle;\n",
       "    }\n",
       "\n",
       "    .dataframe tbody tr th {\n",
       "        vertical-align: top;\n",
       "    }\n",
       "\n",
       "    .dataframe thead th {\n",
       "        text-align: right;\n",
       "    }\n",
       "</style>\n",
       "<table border=\"1\" class=\"dataframe\">\n",
       "  <thead>\n",
       "    <tr style=\"text-align: right;\">\n",
       "      <th></th>\n",
       "      <th>movieId</th>\n",
       "      <th>title</th>\n",
       "      <th>genres</th>\n",
       "    </tr>\n",
       "  </thead>\n",
       "  <tbody>\n",
       "    <tr>\n",
       "      <th>8555</th>\n",
       "      <td>26018</td>\n",
       "      <td>Chase a Crooked Shadow (1958)</td>\n",
       "      <td>Crime|Film-Noir|Mystery|Thriller</td>\n",
       "    </tr>\n",
       "    <tr>\n",
       "      <th>8933</th>\n",
       "      <td>26580</td>\n",
       "      <td>Park Is Mine, The (1986)</td>\n",
       "      <td>Action|Drama|Thriller</td>\n",
       "    </tr>\n",
       "    <tr>\n",
       "      <th>9249</th>\n",
       "      <td>27249</td>\n",
       "      <td>Trumpet of the Swan, The (2001)</td>\n",
       "      <td>Animation|Drama|Musical</td>\n",
       "    </tr>\n",
       "    <tr>\n",
       "      <th>9315</th>\n",
       "      <td>27396</td>\n",
       "      <td>Gentleman's Game, A (2002)</td>\n",
       "      <td>Drama</td>\n",
       "    </tr>\n",
       "    <tr>\n",
       "      <th>9770</th>\n",
       "      <td>31797</td>\n",
       "      <td>White Banners (1938)</td>\n",
       "      <td>Drama</td>\n",
       "    </tr>\n",
       "    <tr>\n",
       "      <th>...</th>\n",
       "      <td>...</td>\n",
       "      <td>...</td>\n",
       "      <td>...</td>\n",
       "    </tr>\n",
       "    <tr>\n",
       "      <th>26818</th>\n",
       "      <td>128886</td>\n",
       "      <td>Love at the Top (1974)</td>\n",
       "      <td>Comedy|Drama</td>\n",
       "    </tr>\n",
       "    <tr>\n",
       "      <th>26872</th>\n",
       "      <td>129201</td>\n",
       "      <td>The Time Being (2012)</td>\n",
       "      <td>Mystery</td>\n",
       "    </tr>\n",
       "    <tr>\n",
       "      <th>26933</th>\n",
       "      <td>129443</td>\n",
       "      <td>Thank You a Lot (2014)</td>\n",
       "      <td>Drama</td>\n",
       "    </tr>\n",
       "    <tr>\n",
       "      <th>27004</th>\n",
       "      <td>129820</td>\n",
       "      <td>Spare Parts (2015)</td>\n",
       "      <td>Children|Drama</td>\n",
       "    </tr>\n",
       "    <tr>\n",
       "      <th>27056</th>\n",
       "      <td>130040</td>\n",
       "      <td>Mo (1983)</td>\n",
       "      <td>Horror</td>\n",
       "    </tr>\n",
       "  </tbody>\n",
       "</table>\n",
       "<p>534 rows × 3 columns</p>\n",
       "</div>"
      ],
      "text/plain": [
       "       movieId                            title  \\\n",
       "8555     26018    Chase a Crooked Shadow (1958)   \n",
       "8933     26580         Park Is Mine, The (1986)   \n",
       "9249     27249  Trumpet of the Swan, The (2001)   \n",
       "9315     27396       Gentleman's Game, A (2002)   \n",
       "9770     31797             White Banners (1938)   \n",
       "...        ...                              ...   \n",
       "26818   128886           Love at the Top (1974)   \n",
       "26872   129201            The Time Being (2012)   \n",
       "26933   129443           Thank You a Lot (2014)   \n",
       "27004   129820               Spare Parts (2015)   \n",
       "27056   130040                        Mo (1983)   \n",
       "\n",
       "                                 genres  \n",
       "8555   Crime|Film-Noir|Mystery|Thriller  \n",
       "8933              Action|Drama|Thriller  \n",
       "9249            Animation|Drama|Musical  \n",
       "9315                              Drama  \n",
       "9770                              Drama  \n",
       "...                                 ...  \n",
       "26818                      Comedy|Drama  \n",
       "26872                           Mystery  \n",
       "26933                             Drama  \n",
       "27004                    Children|Drama  \n",
       "27056                            Horror  \n",
       "\n",
       "[534 rows x 3 columns]"
      ]
     },
     "execution_count": 36,
     "metadata": {},
     "output_type": "execute_result"
    }
   ],
   "source": [
    "movie[movie.movieId.isin(cc)]"
   ]
  },
  {
   "cell_type": "code",
   "execution_count": 4,
   "metadata": {},
   "outputs": [],
   "source": [
    "# Pre-processing and merging\n",
    "\n",
    "movie_rating = pd.merge(movie, ratings, on='movieId')\n",
    "\n",
    "genome_scores = genome_score[genome_score['relevance']>0.5].merge(genome, on='tagId',how='left')\n",
    "\n",
    "genome_scores = genome_scores.groupby(by='movieId')['tag'].apply(lambda x:', '.join(x)).reset_index()\n",
    "\n",
    "df = pd.merge(movie, genome_scores, on='movieId', how='left')\n",
    "\n",
    "df.rename(mapper = {'tag':'tags'}, axis=1, inplace=True)\n",
    "\n",
    "tag.tag = tag.tag.astype(str)\n",
    "tags  = tag.groupby(by='movieId')['tag'].apply(lambda x: ', '.join(x)).reset_index()\n",
    "\n",
    "df = pd.merge(df, tags, on='movieId', how='left')\n",
    "\n",
    "df['genres']= df['genres'].str.replace('|', ', ')"
   ]
  },
  {
   "cell_type": "code",
   "execution_count": 4,
   "metadata": {},
   "outputs": [
    {
     "data": {
      "text/html": [
       "<div>\n",
       "<style scoped>\n",
       "    .dataframe tbody tr th:only-of-type {\n",
       "        vertical-align: middle;\n",
       "    }\n",
       "\n",
       "    .dataframe tbody tr th {\n",
       "        vertical-align: top;\n",
       "    }\n",
       "\n",
       "    .dataframe thead th {\n",
       "        text-align: right;\n",
       "    }\n",
       "</style>\n",
       "<table border=\"1\" class=\"dataframe\">\n",
       "  <thead>\n",
       "    <tr style=\"text-align: right;\">\n",
       "      <th></th>\n",
       "      <th>movieId</th>\n",
       "      <th>title</th>\n",
       "      <th>genres</th>\n",
       "      <th>tags</th>\n",
       "      <th>tag</th>\n",
       "    </tr>\n",
       "  </thead>\n",
       "  <tbody>\n",
       "    <tr>\n",
       "      <th>0</th>\n",
       "      <td>1</td>\n",
       "      <td>Toy Story (1995)</td>\n",
       "      <td>Adventure, Animation, Children, Comedy, Fantasy</td>\n",
       "      <td>3d, action, adventure, affectionate, animal mo...</td>\n",
       "      <td>Watched, computer animation, Disney animated f...</td>\n",
       "    </tr>\n",
       "    <tr>\n",
       "      <th>1</th>\n",
       "      <td>2</td>\n",
       "      <td>Jumanji (1995)</td>\n",
       "      <td>Adventure, Children, Fantasy</td>\n",
       "      <td>action, adapted from:book, adventure, animal m...</td>\n",
       "      <td>time travel, adapted from:book, board game, ch...</td>\n",
       "    </tr>\n",
       "    <tr>\n",
       "      <th>2</th>\n",
       "      <td>3</td>\n",
       "      <td>Grumpier Old Men (1995)</td>\n",
       "      <td>Comedy, Romance</td>\n",
       "      <td>chase, comedy, crappy sequel, destiny, family,...</td>\n",
       "      <td>old people that is actually funny, sequel feve...</td>\n",
       "    </tr>\n",
       "    <tr>\n",
       "      <th>3</th>\n",
       "      <td>4</td>\n",
       "      <td>Waiting to Exhale (1995)</td>\n",
       "      <td>Comedy, Drama, Romance</td>\n",
       "      <td>adultery, betrayal, chick flick, divorce, feel...</td>\n",
       "      <td>chick flick, revenge, characters, chick flick,...</td>\n",
       "    </tr>\n",
       "    <tr>\n",
       "      <th>4</th>\n",
       "      <td>5</td>\n",
       "      <td>Father of the Bride Part II (1995)</td>\n",
       "      <td>Comedy</td>\n",
       "      <td>catastrophe, chase, comedy, crappy sequel, cul...</td>\n",
       "      <td>Diane Keaton, family, sequel, Steve Martin, we...</td>\n",
       "    </tr>\n",
       "  </tbody>\n",
       "</table>\n",
       "</div>"
      ],
      "text/plain": [
       "   movieId                               title  \\\n",
       "0        1                    Toy Story (1995)   \n",
       "1        2                      Jumanji (1995)   \n",
       "2        3             Grumpier Old Men (1995)   \n",
       "3        4            Waiting to Exhale (1995)   \n",
       "4        5  Father of the Bride Part II (1995)   \n",
       "\n",
       "                                            genres  \\\n",
       "0  Adventure, Animation, Children, Comedy, Fantasy   \n",
       "1                     Adventure, Children, Fantasy   \n",
       "2                                  Comedy, Romance   \n",
       "3                           Comedy, Drama, Romance   \n",
       "4                                           Comedy   \n",
       "\n",
       "                                                tags  \\\n",
       "0  3d, action, adventure, affectionate, animal mo...   \n",
       "1  action, adapted from:book, adventure, animal m...   \n",
       "2  chase, comedy, crappy sequel, destiny, family,...   \n",
       "3  adultery, betrayal, chick flick, divorce, feel...   \n",
       "4  catastrophe, chase, comedy, crappy sequel, cul...   \n",
       "\n",
       "                                                 tag  \n",
       "0  Watched, computer animation, Disney animated f...  \n",
       "1  time travel, adapted from:book, board game, ch...  \n",
       "2  old people that is actually funny, sequel feve...  \n",
       "3  chick flick, revenge, characters, chick flick,...  \n",
       "4  Diane Keaton, family, sequel, Steve Martin, we...  "
      ]
     },
     "execution_count": 4,
     "metadata": {},
     "output_type": "execute_result"
    }
   ],
   "source": [
    "df.head()"
   ]
  },
  {
   "cell_type": "markdown",
   "metadata": {},
   "source": [
    "## EDA"
   ]
  },
  {
   "cell_type": "markdown",
   "metadata": {},
   "source": [
    "### Movie dataset"
   ]
  },
  {
   "cell_type": "code",
   "execution_count": 38,
   "metadata": {},
   "outputs": [],
   "source": [
    "genre = movie.genres.str.replace('|', ',').str.split(',')"
   ]
  },
  {
   "cell_type": "code",
   "execution_count": 43,
   "metadata": {},
   "outputs": [],
   "source": [
    "# for row in genre:\n",
    "#     for g in row:\n",
    "#         t.append(g)\n",
    "\n",
    "genre_tokens = [g for row in genre for g in row]"
   ]
  },
  {
   "cell_type": "code",
   "execution_count": 46,
   "metadata": {},
   "outputs": [],
   "source": [
    "items = nltk.FreqDist(genre_tokens)\n",
    "items_s = sorted(list(items.items()), key= lambda kv: kv[1], reverse=True )"
   ]
  },
  {
   "cell_type": "code",
   "execution_count": 113,
   "metadata": {},
   "outputs": [
    {
     "data": {
      "image/png": "[encoded data removed]",
      "text/plain": [
       "<Figure size 720x504 with 1 Axes>"
      ]
     },
     "metadata": {},
     "output_type": "display_data"
    }
   ],
   "source": [
    "k,v = zip(*items_s)\n",
    "f, ax = plt.subplots(figsize=(10,7))\n",
    "sns.set_style('whitegrid')\n",
    "sns.barplot(y=list(k), x=list(v), palette='viridis')\n",
    "ax.set_title('Genre Distribution')\n",
    "\n",
    "ax.grid(b=True, which='major', color='gray', linewidth=1.0)\n",
    "ax.grid(b=True, which='minor', color='gray', linewidth=0.5)"
   ]
  },
  {
   "cell_type": "markdown",
   "metadata": {},
   "source": [
    "#### Year\n",
    "It appears that most tiltes have year of release in brackets. We can try to find which year had most releases. "
   ]
  },
  {
   "cell_type": "code",
   "execution_count": 311,
   "metadata": {},
   "outputs": [],
   "source": [
    "movie_year = movie[movie.title.apply(lambda x: len(re.findall(r'\\(\\d{4}\\)',x)))>0].copy()"
   ]
  },
  {
   "cell_type": "code",
   "execution_count": 312,
   "metadata": {},
   "outputs": [],
   "source": [
    "movie_year['year'] = movie_year.title.apply(lambda x: re.findall(r'\\(\\d{4}\\)',x)[0])"
   ]
  },
  {
   "cell_type": "code",
   "execution_count": 313,
   "metadata": {},
   "outputs": [
    {
     "data": {
      "text/html": [
       "<div>\n",
       "<style scoped>\n",
       "    .dataframe tbody tr th:only-of-type {\n",
       "        vertical-align: middle;\n",
       "    }\n",
       "\n",
       "    .dataframe tbody tr th {\n",
       "        vertical-align: top;\n",
       "    }\n",
       "\n",
       "    .dataframe thead th {\n",
       "        text-align: right;\n",
       "    }\n",
       "</style>\n",
       "<table border=\"1\" class=\"dataframe\">\n",
       "  <thead>\n",
       "    <tr style=\"text-align: right;\">\n",
       "      <th></th>\n",
       "      <th>year</th>\n",
       "      <th>movieId</th>\n",
       "    </tr>\n",
       "  </thead>\n",
       "  <tbody>\n",
       "    <tr>\n",
       "      <th>0</th>\n",
       "      <td>(1891)</td>\n",
       "      <td>1</td>\n",
       "    </tr>\n",
       "    <tr>\n",
       "      <th>1</th>\n",
       "      <td>(1893)</td>\n",
       "      <td>1</td>\n",
       "    </tr>\n",
       "    <tr>\n",
       "      <th>2</th>\n",
       "      <td>(1894)</td>\n",
       "      <td>2</td>\n",
       "    </tr>\n",
       "    <tr>\n",
       "      <th>3</th>\n",
       "      <td>(1895)</td>\n",
       "      <td>2</td>\n",
       "    </tr>\n",
       "    <tr>\n",
       "      <th>4</th>\n",
       "      <td>(1896)</td>\n",
       "      <td>2</td>\n",
       "    </tr>\n",
       "    <tr>\n",
       "      <th>...</th>\n",
       "      <td>...</td>\n",
       "      <td>...</td>\n",
       "    </tr>\n",
       "    <tr>\n",
       "      <th>113</th>\n",
       "      <td>(2011)</td>\n",
       "      <td>1016</td>\n",
       "    </tr>\n",
       "    <tr>\n",
       "      <th>114</th>\n",
       "      <td>(2012)</td>\n",
       "      <td>1022</td>\n",
       "    </tr>\n",
       "    <tr>\n",
       "      <th>115</th>\n",
       "      <td>(2013)</td>\n",
       "      <td>1011</td>\n",
       "    </tr>\n",
       "    <tr>\n",
       "      <th>116</th>\n",
       "      <td>(2014)</td>\n",
       "      <td>740</td>\n",
       "    </tr>\n",
       "    <tr>\n",
       "      <th>117</th>\n",
       "      <td>(2015)</td>\n",
       "      <td>120</td>\n",
       "    </tr>\n",
       "  </tbody>\n",
       "</table>\n",
       "<p>118 rows × 2 columns</p>\n",
       "</div>"
      ],
      "text/plain": [
       "       year  movieId\n",
       "0    (1891)        1\n",
       "1    (1893)        1\n",
       "2    (1894)        2\n",
       "3    (1895)        2\n",
       "4    (1896)        2\n",
       "..      ...      ...\n",
       "113  (2011)     1016\n",
       "114  (2012)     1022\n",
       "115  (2013)     1011\n",
       "116  (2014)      740\n",
       "117  (2015)      120\n",
       "\n",
       "[118 rows x 2 columns]"
      ]
     },
     "execution_count": 313,
     "metadata": {},
     "output_type": "execute_result"
    }
   ],
   "source": [
    "movie_year.groupby('year')['movieId'].count().reset_index()"
   ]
  },
  {
   "cell_type": "code",
   "execution_count": 314,
   "metadata": {},
   "outputs": [],
   "source": [
    "movie_year['year'] = movie_year['year'].apply(lambda x: re.sub(r'\\(*\\)*', '', x))"
   ]
  },
  {
   "cell_type": "code",
   "execution_count": 315,
   "metadata": {},
   "outputs": [
    {
     "data": {
      "text/plain": [
       "array(['1995', '1994', '1996', '1976', '1992', '1988', '1967', '1993',\n",
       "       '1964', '1977', '1965', '1982', '1985', '1990', '1991', '1989',\n",
       "       '1937', '1940', '1969', '1981', '1973', '1970', '1960', '1955',\n",
       "       '1959', '1968', '1980', '1975', '1986', '1948', '1943', '1950',\n",
       "       '1946', '1987', '1997', '1974', '1956', '1958', '1949', '1972',\n",
       "       '1998', '1933', '1952', '1951', '1957', '1961', '1954', '1934',\n",
       "       '1944', '1963', '1942', '1941', '1953', '1939', '1947', '1945',\n",
       "       '1938', '1935', '1936', '1926', '1932', '1979', '1971', '1978',\n",
       "       '1966', '1962', '1983', '1984', '1931', '1922', '1999', '1927',\n",
       "       '1929', '1930', '1928', '1925', '1914', '2000', '1919', '1923',\n",
       "       '1920', '1918', '1921', '2001', '1924', '2002', '2003', '1915',\n",
       "       '2004', '1916', '1917', '2005', '2006', '1902', '1903', '2007',\n",
       "       '2008', '2009', '1912', '2010', '1913', '2011', '1898', '1899',\n",
       "       '1894', '2012', '1909', '1910', '1901', '1893', '2013', '1896',\n",
       "       '2014', '1895', '2015', '1900', '1905', '1891'], dtype=object)"
      ]
     },
     "execution_count": 315,
     "metadata": {},
     "output_type": "execute_result"
    }
   ],
   "source": [
    "movie_year.year.unique()"
   ]
  },
  {
   "cell_type": "code",
   "execution_count": 316,
   "metadata": {},
   "outputs": [
    {
     "data": {
      "text/html": [
       "<div>\n",
       "<style scoped>\n",
       "    .dataframe tbody tr th:only-of-type {\n",
       "        vertical-align: middle;\n",
       "    }\n",
       "\n",
       "    .dataframe tbody tr th {\n",
       "        vertical-align: top;\n",
       "    }\n",
       "\n",
       "    .dataframe thead th {\n",
       "        text-align: right;\n",
       "    }\n",
       "</style>\n",
       "<table border=\"1\" class=\"dataframe\">\n",
       "  <thead>\n",
       "    <tr style=\"text-align: right;\">\n",
       "      <th></th>\n",
       "      <th>movieId</th>\n",
       "      <th>title</th>\n",
       "      <th>genres</th>\n",
       "      <th>first_num</th>\n",
       "      <th>year</th>\n",
       "    </tr>\n",
       "  </thead>\n",
       "  <tbody>\n",
       "    <tr>\n",
       "      <th>0</th>\n",
       "      <td>1</td>\n",
       "      <td>Toy Story (1995)</td>\n",
       "      <td>Adventure|Animation|Children|Comedy|Fantasy</td>\n",
       "      <td>1</td>\n",
       "      <td>1995</td>\n",
       "    </tr>\n",
       "    <tr>\n",
       "      <th>1</th>\n",
       "      <td>2</td>\n",
       "      <td>Jumanji (1995)</td>\n",
       "      <td>Adventure|Children|Fantasy</td>\n",
       "      <td>2</td>\n",
       "      <td>1995</td>\n",
       "    </tr>\n",
       "    <tr>\n",
       "      <th>2</th>\n",
       "      <td>3</td>\n",
       "      <td>Grumpier Old Men (1995)</td>\n",
       "      <td>Comedy|Romance</td>\n",
       "      <td>3</td>\n",
       "      <td>1995</td>\n",
       "    </tr>\n",
       "    <tr>\n",
       "      <th>3</th>\n",
       "      <td>4</td>\n",
       "      <td>Waiting to Exhale (1995)</td>\n",
       "      <td>Comedy|Drama|Romance</td>\n",
       "      <td>4</td>\n",
       "      <td>1995</td>\n",
       "    </tr>\n",
       "    <tr>\n",
       "      <th>4</th>\n",
       "      <td>5</td>\n",
       "      <td>Father of the Bride Part II (1995)</td>\n",
       "      <td>Comedy</td>\n",
       "      <td>5</td>\n",
       "      <td>1995</td>\n",
       "    </tr>\n",
       "    <tr>\n",
       "      <th>...</th>\n",
       "      <td>...</td>\n",
       "      <td>...</td>\n",
       "      <td>...</td>\n",
       "      <td>...</td>\n",
       "      <td>...</td>\n",
       "    </tr>\n",
       "    <tr>\n",
       "      <th>27273</th>\n",
       "      <td>131254</td>\n",
       "      <td>Kein Bund für's Leben (2007)</td>\n",
       "      <td>Comedy</td>\n",
       "      <td>1</td>\n",
       "      <td>2007</td>\n",
       "    </tr>\n",
       "    <tr>\n",
       "      <th>27274</th>\n",
       "      <td>131256</td>\n",
       "      <td>Feuer, Eis &amp; Dosenbier (2002)</td>\n",
       "      <td>Comedy</td>\n",
       "      <td>1</td>\n",
       "      <td>2002</td>\n",
       "    </tr>\n",
       "    <tr>\n",
       "      <th>27275</th>\n",
       "      <td>131258</td>\n",
       "      <td>The Pirates (2014)</td>\n",
       "      <td>Adventure</td>\n",
       "      <td>1</td>\n",
       "      <td>2014</td>\n",
       "    </tr>\n",
       "    <tr>\n",
       "      <th>27276</th>\n",
       "      <td>131260</td>\n",
       "      <td>Rentun Ruusu (2001)</td>\n",
       "      <td>(no genres listed)</td>\n",
       "      <td>1</td>\n",
       "      <td>2001</td>\n",
       "    </tr>\n",
       "    <tr>\n",
       "      <th>27277</th>\n",
       "      <td>131262</td>\n",
       "      <td>Innocence (2014)</td>\n",
       "      <td>Adventure|Fantasy|Horror</td>\n",
       "      <td>1</td>\n",
       "      <td>2014</td>\n",
       "    </tr>\n",
       "  </tbody>\n",
       "</table>\n",
       "<p>27256 rows × 5 columns</p>\n",
       "</div>"
      ],
      "text/plain": [
       "       movieId                               title  \\\n",
       "0            1                    Toy Story (1995)   \n",
       "1            2                      Jumanji (1995)   \n",
       "2            3             Grumpier Old Men (1995)   \n",
       "3            4            Waiting to Exhale (1995)   \n",
       "4            5  Father of the Bride Part II (1995)   \n",
       "...        ...                                 ...   \n",
       "27273   131254        Kein Bund für's Leben (2007)   \n",
       "27274   131256       Feuer, Eis & Dosenbier (2002)   \n",
       "27275   131258                  The Pirates (2014)   \n",
       "27276   131260                 Rentun Ruusu (2001)   \n",
       "27277   131262                    Innocence (2014)   \n",
       "\n",
       "                                            genres first_num  year  \n",
       "0      Adventure|Animation|Children|Comedy|Fantasy         1  1995  \n",
       "1                       Adventure|Children|Fantasy         2  1995  \n",
       "2                                   Comedy|Romance         3  1995  \n",
       "3                             Comedy|Drama|Romance         4  1995  \n",
       "4                                           Comedy         5  1995  \n",
       "...                                            ...       ...   ...  \n",
       "27273                                       Comedy         1  2007  \n",
       "27274                                       Comedy         1  2002  \n",
       "27275                                    Adventure         1  2014  \n",
       "27276                           (no genres listed)         1  2001  \n",
       "27277                     Adventure|Fantasy|Horror         1  2014  \n",
       "\n",
       "[27256 rows x 5 columns]"
      ]
     },
     "execution_count": 316,
     "metadata": {},
     "output_type": "execute_result"
    }
   ],
   "source": [
    "movie_year"
   ]
  },
  {
   "cell_type": "code",
   "execution_count": 317,
   "metadata": {},
   "outputs": [],
   "source": [
    "movie_year = movie_year.groupby('year')['movieId'].count().reset_index().sort_values(by='movieId', ascending=False)\n",
    "#movie_year.rename({'movieId': 'count'},axis=1, inplace=True)\n"
   ]
  },
  {
   "cell_type": "code",
   "execution_count": 398,
   "metadata": {},
   "outputs": [
    {
     "data": {
      "image/png": "[encoded data removed]",
      "text/plain": [
       "<Figure size 1080x360 with 1 Axes>"
      ]
     },
     "metadata": {},
     "output_type": "display_data"
    }
   ],
   "source": [
    "sns.set_style('white')\n",
    "f , ax = plt.subplots(figsize=(15,5))\n",
    "l = sns.lineplot(x='year', y='movieId', data=movie_year, color='red')\n",
    "for ind, label in enumerate(l.get_xticklabels()):\n",
    "    if ind % 9 == 0:  # every 10th label is kept\n",
    "        label.set_visible(True)\n",
    "    else:\n",
    "        label.set_visible(False)\n",
    "ax.grid(b=True, which='both', axis='x', color='grey', alpha=0.5,linewidth=1.0)\n",
    "#ax.grid(b=False, which='minor', color='grey', linewidth=0.5)ax.set_ylabel('Count', size=15)\n",
    "ax.set_xlabel('Year', size=15)\n",
    "ax.set_ylabel('Count', size=15)\n",
    "ax.set_title('Movie release per year',size=20)\n",
    "ax.set_xlim('1891','2013')\n",
    "plt.tight_layout()\n"
   ]
  },
  {
   "cell_type": "code",
   "execution_count": 319,
   "metadata": {},
   "outputs": [
    {
     "data": {
      "image/png": "[encoded data removed]",
      "text/plain": [
       "<Figure size 504x432 with 1 Axes>"
      ]
     },
     "metadata": {
      "needs_background": "light"
     },
     "output_type": "display_data"
    }
   ],
   "source": [
    "fig, ax = plt.subplots(figsize=(7,6))\n",
    "plt.bar(x='year', height='movieId', data=movie_year[:10])\n",
    "ax.set_title('Movie per Year');\n",
    "ax.set_ylabel('Count of Movies');"
   ]
  },
  {
   "cell_type": "markdown",
   "metadata": {},
   "source": [
    "It appears 2009 had most releases"
   ]
  },
  {
   "cell_type": "code",
   "execution_count": 462,
   "metadata": {},
   "outputs": [],
   "source": [
    "del movie_year"
   ]
  },
  {
   "cell_type": "markdown",
   "metadata": {},
   "source": [
    "### Rating dataset"
   ]
  },
  {
   "cell_type": "code",
   "execution_count": 8,
   "metadata": {},
   "outputs": [
    {
     "data": {
      "text/html": [
       "<div>\n",
       "<style scoped>\n",
       "    .dataframe tbody tr th:only-of-type {\n",
       "        vertical-align: middle;\n",
       "    }\n",
       "\n",
       "    .dataframe tbody tr th {\n",
       "        vertical-align: top;\n",
       "    }\n",
       "\n",
       "    .dataframe thead th {\n",
       "        text-align: right;\n",
       "    }\n",
       "</style>\n",
       "<table border=\"1\" class=\"dataframe\">\n",
       "  <thead>\n",
       "    <tr style=\"text-align: right;\">\n",
       "      <th></th>\n",
       "      <th>userId</th>\n",
       "      <th>movieId</th>\n",
       "      <th>rating</th>\n",
       "      <th>timestamp</th>\n",
       "    </tr>\n",
       "  </thead>\n",
       "  <tbody>\n",
       "    <tr>\n",
       "      <th>0</th>\n",
       "      <td>1</td>\n",
       "      <td>2</td>\n",
       "      <td>3.5</td>\n",
       "      <td>2005-04-02 23:53:47</td>\n",
       "    </tr>\n",
       "    <tr>\n",
       "      <th>1</th>\n",
       "      <td>1</td>\n",
       "      <td>29</td>\n",
       "      <td>3.5</td>\n",
       "      <td>2005-04-02 23:31:16</td>\n",
       "    </tr>\n",
       "    <tr>\n",
       "      <th>2</th>\n",
       "      <td>1</td>\n",
       "      <td>32</td>\n",
       "      <td>3.5</td>\n",
       "      <td>2005-04-02 23:33:39</td>\n",
       "    </tr>\n",
       "    <tr>\n",
       "      <th>3</th>\n",
       "      <td>1</td>\n",
       "      <td>47</td>\n",
       "      <td>3.5</td>\n",
       "      <td>2005-04-02 23:32:07</td>\n",
       "    </tr>\n",
       "    <tr>\n",
       "      <th>4</th>\n",
       "      <td>1</td>\n",
       "      <td>50</td>\n",
       "      <td>3.5</td>\n",
       "      <td>2005-04-02 23:29:40</td>\n",
       "    </tr>\n",
       "  </tbody>\n",
       "</table>\n",
       "</div>"
      ],
      "text/plain": [
       "   userId  movieId  rating            timestamp\n",
       "0       1        2     3.5  2005-04-02 23:53:47\n",
       "1       1       29     3.5  2005-04-02 23:31:16\n",
       "2       1       32     3.5  2005-04-02 23:33:39\n",
       "3       1       47     3.5  2005-04-02 23:32:07\n",
       "4       1       50     3.5  2005-04-02 23:29:40"
      ]
     },
     "execution_count": 8,
     "metadata": {},
     "output_type": "execute_result"
    }
   ],
   "source": [
    "ratings.head()"
   ]
  },
  {
   "cell_type": "code",
   "execution_count": 5,
   "metadata": {},
   "outputs": [],
   "source": [
    "avg_rating = ratings.groupby('movieId')['rating'].agg(['count', 'mean']).reset_index()"
   ]
  },
  {
   "cell_type": "code",
   "execution_count": 7,
   "metadata": {},
   "outputs": [
    {
     "data": {
      "text/plain": [
       "count    26744.000000\n",
       "mean       747.841123\n",
       "std       3085.818268\n",
       "min          1.000000\n",
       "25%          3.000000\n",
       "50%         18.000000\n",
       "75%        205.000000\n",
       "max      67310.000000\n",
       "Name: count, dtype: float64"
      ]
     },
     "execution_count": 7,
     "metadata": {},
     "output_type": "execute_result"
    }
   ],
   "source": [
    "avg_rating['count'].describe()"
   ]
  },
  {
   "cell_type": "code",
   "execution_count": 6,
   "metadata": {},
   "outputs": [
    {
     "data": {
      "text/html": [
       "<div>\n",
       "<style scoped>\n",
       "    .dataframe tbody tr th:only-of-type {\n",
       "        vertical-align: middle;\n",
       "    }\n",
       "\n",
       "    .dataframe tbody tr th {\n",
       "        vertical-align: top;\n",
       "    }\n",
       "\n",
       "    .dataframe thead th {\n",
       "        text-align: right;\n",
       "    }\n",
       "</style>\n",
       "<table border=\"1\" class=\"dataframe\">\n",
       "  <thead>\n",
       "    <tr style=\"text-align: right;\">\n",
       "      <th></th>\n",
       "      <th>movieId</th>\n",
       "      <th>title</th>\n",
       "      <th>num_rating</th>\n",
       "      <th>rating_mean</th>\n",
       "    </tr>\n",
       "  </thead>\n",
       "  <tbody>\n",
       "    <tr>\n",
       "      <th>0</th>\n",
       "      <td>1</td>\n",
       "      <td>Toy Story (1995)</td>\n",
       "      <td>49695</td>\n",
       "      <td>3.921240</td>\n",
       "    </tr>\n",
       "    <tr>\n",
       "      <th>1</th>\n",
       "      <td>2</td>\n",
       "      <td>Jumanji (1995)</td>\n",
       "      <td>22243</td>\n",
       "      <td>3.211977</td>\n",
       "    </tr>\n",
       "    <tr>\n",
       "      <th>2</th>\n",
       "      <td>3</td>\n",
       "      <td>Grumpier Old Men (1995)</td>\n",
       "      <td>12735</td>\n",
       "      <td>3.151040</td>\n",
       "    </tr>\n",
       "    <tr>\n",
       "      <th>3</th>\n",
       "      <td>4</td>\n",
       "      <td>Waiting to Exhale (1995)</td>\n",
       "      <td>2756</td>\n",
       "      <td>2.861393</td>\n",
       "    </tr>\n",
       "    <tr>\n",
       "      <th>4</th>\n",
       "      <td>5</td>\n",
       "      <td>Father of the Bride Part II (1995)</td>\n",
       "      <td>12161</td>\n",
       "      <td>3.064592</td>\n",
       "    </tr>\n",
       "    <tr>\n",
       "      <th>...</th>\n",
       "      <td>...</td>\n",
       "      <td>...</td>\n",
       "      <td>...</td>\n",
       "      <td>...</td>\n",
       "    </tr>\n",
       "    <tr>\n",
       "      <th>26739</th>\n",
       "      <td>131254</td>\n",
       "      <td>Kein Bund für's Leben (2007)</td>\n",
       "      <td>1</td>\n",
       "      <td>4.000000</td>\n",
       "    </tr>\n",
       "    <tr>\n",
       "      <th>26740</th>\n",
       "      <td>131256</td>\n",
       "      <td>Feuer, Eis &amp; Dosenbier (2002)</td>\n",
       "      <td>1</td>\n",
       "      <td>4.000000</td>\n",
       "    </tr>\n",
       "    <tr>\n",
       "      <th>26741</th>\n",
       "      <td>131258</td>\n",
       "      <td>The Pirates (2014)</td>\n",
       "      <td>1</td>\n",
       "      <td>2.500000</td>\n",
       "    </tr>\n",
       "    <tr>\n",
       "      <th>26742</th>\n",
       "      <td>131260</td>\n",
       "      <td>Rentun Ruusu (2001)</td>\n",
       "      <td>1</td>\n",
       "      <td>3.000000</td>\n",
       "    </tr>\n",
       "    <tr>\n",
       "      <th>26743</th>\n",
       "      <td>131262</td>\n",
       "      <td>Innocence (2014)</td>\n",
       "      <td>1</td>\n",
       "      <td>4.000000</td>\n",
       "    </tr>\n",
       "  </tbody>\n",
       "</table>\n",
       "<p>26744 rows × 4 columns</p>\n",
       "</div>"
      ],
      "text/plain": [
       "       movieId                               title  num_rating  rating_mean\n",
       "0            1                    Toy Story (1995)       49695     3.921240\n",
       "1            2                      Jumanji (1995)       22243     3.211977\n",
       "2            3             Grumpier Old Men (1995)       12735     3.151040\n",
       "3            4            Waiting to Exhale (1995)        2756     2.861393\n",
       "4            5  Father of the Bride Part II (1995)       12161     3.064592\n",
       "...        ...                                 ...         ...          ...\n",
       "26739   131254        Kein Bund für's Leben (2007)           1     4.000000\n",
       "26740   131256       Feuer, Eis & Dosenbier (2002)           1     4.000000\n",
       "26741   131258                  The Pirates (2014)           1     2.500000\n",
       "26742   131260                 Rentun Ruusu (2001)           1     3.000000\n",
       "26743   131262                    Innocence (2014)           1     4.000000\n",
       "\n",
       "[26744 rows x 4 columns]"
      ]
     },
     "execution_count": 6,
     "metadata": {},
     "output_type": "execute_result"
    }
   ],
   "source": [
    "avg_rating = avg_rating.merge(movie[['movieId', 'title']], on='movieId')\n",
    "avg_rating.rename(mapper={'count':'num_rating', 'mean':'rating_mean'},axis=1, inplace=True)\n",
    "avg_rating = avg_rating[['movieId', 'title', 'num_rating', 'rating_mean']]\n",
    "avg_rating"
   ]
  },
  {
   "cell_type": "code",
   "execution_count": 16,
   "metadata": {},
   "outputs": [
    {
     "data": {
      "image/png": "[encoded data removed]",
      "text/plain": [
       "<Figure size 720x288 with 2 Axes>"
      ]
     },
     "metadata": {
      "needs_background": "light"
     },
     "output_type": "display_data"
    }
   ],
   "source": [
    "f, ax = plt.subplots(1,2, figsize=(10,4))\n",
    "avg_rating.movieId.plot(kind='box', ax=ax[0]);\n",
    "avg_rating.movieId.plot(kind='hist', ax=ax[1]);"
   ]
  },
  {
   "cell_type": "code",
   "execution_count": 125,
   "metadata": {},
   "outputs": [
    {
     "data": {
      "image/png": "[encoded data removed]",
      "text/plain": [
       "<Figure size 576x576 with 3 Axes>"
      ]
     },
     "metadata": {
      "needs_background": "light"
     },
     "output_type": "display_data"
    }
   ],
   "source": [
    "#f, ax = plt.subplots(figsize=(10,6))\n",
    "#sns.jointplot(x='movieId', y='num_rating', data=avg_rating, kind='kde',height=7)\n",
    "g = sns.jointplot(\"movieId\", \"num_rating\", data=avg_rating, height=8, kind='scatter',xlim=(0,131262), ylim=(0,50000))"
   ]
  },
  {
   "cell_type": "code",
   "execution_count": 138,
   "metadata": {},
   "outputs": [
    {
     "data": {
      "image/png": "[encoded data removed]",
      "text/plain": [
       "<Figure size 864x576 with 1 Axes>"
      ]
     },
     "metadata": {
      "needs_background": "light"
     },
     "output_type": "display_data"
    }
   ],
   "source": [
    "ax = avg_rating['num_rating']\\\n",
    ".sort_values(ascending=False).reset_index(drop=True)\\\n",
    ".plot(figsize=(12, 8),\n",
    "        title='Rating Frequency of All Movies',\n",
    "        fontsize=12,\n",
    "         c = 'darkorange')\n",
    "ax.set_xlabel(\"movie Id\");\n",
    "ax.set_ylabel(\"number of ratings\");"
   ]
  },
  {
   "cell_type": "code",
   "execution_count": 13,
   "metadata": {},
   "outputs": [
    {
     "data": {
      "text/html": [
       "<div>\n",
       "<style scoped>\n",
       "    .dataframe tbody tr th:only-of-type {\n",
       "        vertical-align: middle;\n",
       "    }\n",
       "\n",
       "    .dataframe tbody tr th {\n",
       "        vertical-align: top;\n",
       "    }\n",
       "\n",
       "    .dataframe thead th {\n",
       "        text-align: right;\n",
       "    }\n",
       "</style>\n",
       "<table border=\"1\" class=\"dataframe\">\n",
       "  <thead>\n",
       "    <tr style=\"text-align: right;\">\n",
       "      <th></th>\n",
       "      <th>movieId</th>\n",
       "      <th>title</th>\n",
       "      <th>num_rating</th>\n",
       "      <th>rating_mean</th>\n",
       "    </tr>\n",
       "  </thead>\n",
       "  <tbody>\n",
       "    <tr>\n",
       "      <th>315</th>\n",
       "      <td>318</td>\n",
       "      <td>Shawshank Redemption, The (1994)</td>\n",
       "      <td>63366</td>\n",
       "      <td>4.446990</td>\n",
       "    </tr>\n",
       "    <tr>\n",
       "      <th>843</th>\n",
       "      <td>858</td>\n",
       "      <td>Godfather, The (1972)</td>\n",
       "      <td>41355</td>\n",
       "      <td>4.364732</td>\n",
       "    </tr>\n",
       "    <tr>\n",
       "      <th>49</th>\n",
       "      <td>50</td>\n",
       "      <td>Usual Suspects, The (1995)</td>\n",
       "      <td>47006</td>\n",
       "      <td>4.334372</td>\n",
       "    </tr>\n",
       "    <tr>\n",
       "      <th>523</th>\n",
       "      <td>527</td>\n",
       "      <td>Schindler's List (1993)</td>\n",
       "      <td>50054</td>\n",
       "      <td>4.310175</td>\n",
       "    </tr>\n",
       "    <tr>\n",
       "      <th>1195</th>\n",
       "      <td>1221</td>\n",
       "      <td>Godfather: Part II, The (1974)</td>\n",
       "      <td>27398</td>\n",
       "      <td>4.275641</td>\n",
       "    </tr>\n",
       "    <tr>\n",
       "      <th>...</th>\n",
       "      <td>...</td>\n",
       "      <td>...</td>\n",
       "      <td>...</td>\n",
       "      <td>...</td>\n",
       "    </tr>\n",
       "    <tr>\n",
       "      <th>4679</th>\n",
       "      <td>4775</td>\n",
       "      <td>Glitter (2001)</td>\n",
       "      <td>685</td>\n",
       "      <td>1.124088</td>\n",
       "    </tr>\n",
       "    <tr>\n",
       "      <th>12003</th>\n",
       "      <td>54290</td>\n",
       "      <td>Bratz: The Movie (2007)</td>\n",
       "      <td>180</td>\n",
       "      <td>1.105556</td>\n",
       "    </tr>\n",
       "    <tr>\n",
       "      <th>6373</th>\n",
       "      <td>6483</td>\n",
       "      <td>From Justin to Kelly (2003)</td>\n",
       "      <td>426</td>\n",
       "      <td>0.973005</td>\n",
       "    </tr>\n",
       "    <tr>\n",
       "      <th>8176</th>\n",
       "      <td>8859</td>\n",
       "      <td>SuperBabies: Baby Geniuses 2 (2004)</td>\n",
       "      <td>209</td>\n",
       "      <td>0.837321</td>\n",
       "    </tr>\n",
       "    <tr>\n",
       "      <th>7170</th>\n",
       "      <td>7282</td>\n",
       "      <td>Hip Hop Witch, Da (2000)</td>\n",
       "      <td>29</td>\n",
       "      <td>0.724138</td>\n",
       "    </tr>\n",
       "  </tbody>\n",
       "</table>\n",
       "<p>12850 rows × 4 columns</p>\n",
       "</div>"
      ],
      "text/plain": [
       "       movieId                                title  num_rating  rating_mean\n",
       "315        318     Shawshank Redemption, The (1994)       63366     4.446990\n",
       "843        858                Godfather, The (1972)       41355     4.364732\n",
       "49          50           Usual Suspects, The (1995)       47006     4.334372\n",
       "523        527              Schindler's List (1993)       50054     4.310175\n",
       "1195      1221       Godfather: Part II, The (1974)       27398     4.275641\n",
       "...        ...                                  ...         ...          ...\n",
       "4679      4775                       Glitter (2001)         685     1.124088\n",
       "12003    54290              Bratz: The Movie (2007)         180     1.105556\n",
       "6373      6483          From Justin to Kelly (2003)         426     0.973005\n",
       "8176      8859  SuperBabies: Baby Geniuses 2 (2004)         209     0.837321\n",
       "7170      7282             Hip Hop Witch, Da (2000)          29     0.724138\n",
       "\n",
       "[12850 rows x 4 columns]"
      ]
     },
     "execution_count": 13,
     "metadata": {},
     "output_type": "execute_result"
    }
   ],
   "source": [
    "top_rated=avg_rating.sort_values(by=['rating_mean', 'num_rating'], ascending=False).query('num_rating>21')\n",
    "top_rated"
   ]
  },
  {
   "cell_type": "code",
   "execution_count": 142,
   "metadata": {},
   "outputs": [
    {
     "data": {
      "image/png": "[encoded data removed]",
      "text/plain": [
       "<Figure size 504x1440 with 1 Axes>"
      ]
     },
     "metadata": {
      "needs_background": "light"
     },
     "output_type": "display_data"
    }
   ],
   "source": [
    "f, ax = plt.subplots(figsize=(7,20))\n",
    "b = sns.barplot(y='title', x='rating_mean', data=top_rated[:100], palette='viridis' )\n",
    "b.set(xlim=(4.1,4.5))\n",
    "ax.set_title('Top 100 Movies by Rating')\n",
    "ax.set_ylabel('')\n",
    "ax.set_xlabel('Avg Rating')\n",
    "plt.show()"
   ]
  },
  {
   "cell_type": "code",
   "execution_count": 91,
   "metadata": {},
   "outputs": [
    {
     "data": {
      "text/html": [
       "<div>\n",
       "<style scoped>\n",
       "    .dataframe tbody tr th:only-of-type {\n",
       "        vertical-align: middle;\n",
       "    }\n",
       "\n",
       "    .dataframe tbody tr th {\n",
       "        vertical-align: top;\n",
       "    }\n",
       "\n",
       "    .dataframe thead th {\n",
       "        text-align: right;\n",
       "    }\n",
       "</style>\n",
       "<table border=\"1\" class=\"dataframe\">\n",
       "  <thead>\n",
       "    <tr style=\"text-align: right;\">\n",
       "      <th></th>\n",
       "      <th>movieId</th>\n",
       "      <th>title</th>\n",
       "      <th>num_rating</th>\n",
       "      <th>rating_mean</th>\n",
       "      <th>year</th>\n",
       "    </tr>\n",
       "  </thead>\n",
       "  <tbody>\n",
       "    <tr>\n",
       "      <th>10584</th>\n",
       "      <td>40697</td>\n",
       "      <td>Babylon 5</td>\n",
       "      <td>56</td>\n",
       "      <td>3.866071</td>\n",
       "      <td>[]</td>\n",
       "    </tr>\n",
       "  </tbody>\n",
       "</table>\n",
       "</div>"
      ],
      "text/plain": [
       "       movieId      title  num_rating  rating_mean year\n",
       "10584    40697  Babylon 5          56     3.866071   []"
      ]
     },
     "execution_count": 91,
     "metadata": {},
     "output_type": "execute_result"
    }
   ],
   "source": [
    "top_rated['year'] = top_rated['title'].apply(lambda x: re.findall('\\(\\d{4}-*\\d{0,4}\\)', x))\n",
    "top_rated[top_rated['year'].apply(lambda x: len(x))<1]"
   ]
  },
  {
   "cell_type": "code",
   "execution_count": 93,
   "metadata": {},
   "outputs": [],
   "source": [
    "top_rated.loc[10584, 'year'] = [('1994')]"
   ]
  },
  {
   "cell_type": "code",
   "execution_count": 94,
   "metadata": {},
   "outputs": [],
   "source": [
    "top_rated['year'] = top_rated['year'].apply(lambda x: re.sub(r'\\(*\\)*', '', x[0]))"
   ]
  },
  {
   "cell_type": "code",
   "execution_count": 83,
   "metadata": {},
   "outputs": [
    {
     "data": {
      "image/png": "[encoded data removed]",
      "text/plain": [
       "<Figure size 504x360 with 1 Axes>"
      ]
     },
     "metadata": {
      "needs_background": "light"
     },
     "output_type": "display_data"
    }
   ],
   "source": [
    "f, ax = plt.subplots(figsize=(7,5))\n",
    "b = sns.barplot(y='title', x='num_rating', data=top_rated[:10].sort_values(by='num_rating', ascending=False)\n",
    "                , palette='viridis' )\n",
    "#b.set(xlim=(4.1,4.5))\n",
    "ax.set_title('Top 10 Most Rated Movies')\n",
    "ax.set_ylabel('')\n",
    "ax.set_xlabel('Avg Rating')\n",
    "plt.show()"
   ]
  },
  {
   "cell_type": "code",
   "execution_count": null,
   "metadata": {},
   "outputs": [],
   "source": [
    "top_rated.year = top_rated.year.astype(int)"
   ]
  },
  {
   "cell_type": "code",
   "execution_count": 130,
   "metadata": {},
   "outputs": [
    {
     "data": {
      "image/png": "[encoded data removed]",
      "text/plain": [
       "<Figure size 504x360 with 1 Axes>"
      ]
     },
     "metadata": {
      "needs_background": "light"
     },
     "output_type": "display_data"
    }
   ],
   "source": [
    "f, ax = plt.subplots(figsize=(7,5))\n",
    "b = sns.barplot(y='title', x='rating_mean', data=top_rated.query('year>=2000')[:10], palette='viridis' )\n",
    "b.set(xlim=(4.1,4.3))\n",
    "ax.set_title('Top 10 Movies by Rating [year > 2000]')\n",
    "ax.set_ylabel('')\n",
    "ax.set_xlabel('Avg Rating')\n",
    "plt.show()"
   ]
  },
  {
   "cell_type": "code",
   "execution_count": 137,
   "metadata": {},
   "outputs": [
    {
     "data": {
      "image/png": "[encoded data removed]",
      "text/plain": [
       "<Figure size 504x720 with 1 Axes>"
      ]
     },
     "metadata": {
      "needs_background": "light"
     },
     "output_type": "display_data"
    }
   ],
   "source": [
    "f, ax = plt.subplots(figsize=(7,10))\n",
    "b = sns.barplot(y='title', x='rating_mean', data=top_rated[-20:], palette='viridis' )\n",
    "#b.set(xlim=(4.1,4.5))\n",
    "ax.set_title('Lowest 10 Movies by Rating')\n",
    "ax.set_ylabel('')\n",
    "ax.set_xlabel('Avg Rating')\n",
    "plt.show()"
   ]
  },
  {
   "cell_type": "code",
   "execution_count": 143,
   "metadata": {},
   "outputs": [
    {
     "data": {
      "text/html": [
       "<div>\n",
       "<style scoped>\n",
       "    .dataframe tbody tr th:only-of-type {\n",
       "        vertical-align: middle;\n",
       "    }\n",
       "\n",
       "    .dataframe tbody tr th {\n",
       "        vertical-align: top;\n",
       "    }\n",
       "\n",
       "    .dataframe thead th {\n",
       "        text-align: right;\n",
       "    }\n",
       "</style>\n",
       "<table border=\"1\" class=\"dataframe\">\n",
       "  <thead>\n",
       "    <tr style=\"text-align: right;\">\n",
       "      <th></th>\n",
       "      <th>movieId</th>\n",
       "      <th>title</th>\n",
       "      <th>num_rating</th>\n",
       "      <th>rating_mean</th>\n",
       "      <th>year</th>\n",
       "    </tr>\n",
       "  </thead>\n",
       "  <tbody>\n",
       "    <tr>\n",
       "      <th>7008</th>\n",
       "      <td>7120</td>\n",
       "      <td>DarkWolf (2003)</td>\n",
       "      <td>24</td>\n",
       "      <td>1.375000</td>\n",
       "      <td>2003</td>\n",
       "    </tr>\n",
       "    <tr>\n",
       "      <th>6762</th>\n",
       "      <td>6872</td>\n",
       "      <td>House of the Dead, The (2003)</td>\n",
       "      <td>447</td>\n",
       "      <td>1.356823</td>\n",
       "      <td>2003</td>\n",
       "    </tr>\n",
       "    <tr>\n",
       "      <th>5641</th>\n",
       "      <td>5740</td>\n",
       "      <td>Faces of Death: Fact or Fiction? (1999)</td>\n",
       "      <td>124</td>\n",
       "      <td>1.354839</td>\n",
       "      <td>1999</td>\n",
       "    </tr>\n",
       "    <tr>\n",
       "      <th>13259</th>\n",
       "      <td>64999</td>\n",
       "      <td>War of the Worlds 2: The Next Wave (2008)</td>\n",
       "      <td>28</td>\n",
       "      <td>1.339286</td>\n",
       "      <td>2008</td>\n",
       "    </tr>\n",
       "    <tr>\n",
       "      <th>5639</th>\n",
       "      <td>5738</td>\n",
       "      <td>Faces of Death 5 (1996)</td>\n",
       "      <td>157</td>\n",
       "      <td>1.337580</td>\n",
       "      <td>1996</td>\n",
       "    </tr>\n",
       "    <tr>\n",
       "      <th>17508</th>\n",
       "      <td>88301</td>\n",
       "      <td>Beverly Hills Chihuahua 2 (2011)</td>\n",
       "      <td>27</td>\n",
       "      <td>1.333333</td>\n",
       "      <td>2011</td>\n",
       "    </tr>\n",
       "    <tr>\n",
       "      <th>17625</th>\n",
       "      <td>88764</td>\n",
       "      <td>Ponterosa (2001)</td>\n",
       "      <td>24</td>\n",
       "      <td>1.333333</td>\n",
       "      <td>2001</td>\n",
       "    </tr>\n",
       "    <tr>\n",
       "      <th>5573</th>\n",
       "      <td>5672</td>\n",
       "      <td>Pokemon 4 Ever (a.k.a. Pokémon 4: The Movie) (...</td>\n",
       "      <td>472</td>\n",
       "      <td>1.316737</td>\n",
       "      <td>2002</td>\n",
       "    </tr>\n",
       "    <tr>\n",
       "      <th>5640</th>\n",
       "      <td>5739</td>\n",
       "      <td>Faces of Death 6 (1996)</td>\n",
       "      <td>174</td>\n",
       "      <td>1.261494</td>\n",
       "      <td>1996</td>\n",
       "    </tr>\n",
       "    <tr>\n",
       "      <th>9754</th>\n",
       "      <td>31698</td>\n",
       "      <td>Son of the Mask (2005)</td>\n",
       "      <td>467</td>\n",
       "      <td>1.252677</td>\n",
       "      <td>2005</td>\n",
       "    </tr>\n",
       "    <tr>\n",
       "      <th>12942</th>\n",
       "      <td>61348</td>\n",
       "      <td>Disaster Movie (2008)</td>\n",
       "      <td>397</td>\n",
       "      <td>1.251889</td>\n",
       "      <td>2008</td>\n",
       "    </tr>\n",
       "    <tr>\n",
       "      <th>3483</th>\n",
       "      <td>3574</td>\n",
       "      <td>Carnosaur 3: Primal Species (1996)</td>\n",
       "      <td>139</td>\n",
       "      <td>1.237410</td>\n",
       "      <td>1996</td>\n",
       "    </tr>\n",
       "    <tr>\n",
       "      <th>6266</th>\n",
       "      <td>6371</td>\n",
       "      <td>Pokémon Heroes (2003)</td>\n",
       "      <td>325</td>\n",
       "      <td>1.167692</td>\n",
       "      <td>2003</td>\n",
       "    </tr>\n",
       "    <tr>\n",
       "      <th>6477</th>\n",
       "      <td>6587</td>\n",
       "      <td>Gigli (2003)</td>\n",
       "      <td>701</td>\n",
       "      <td>1.164051</td>\n",
       "      <td>2003</td>\n",
       "    </tr>\n",
       "    <tr>\n",
       "      <th>1746</th>\n",
       "      <td>1826</td>\n",
       "      <td>Barney's Great Adventure (1998)</td>\n",
       "      <td>419</td>\n",
       "      <td>1.163484</td>\n",
       "      <td>1998</td>\n",
       "    </tr>\n",
       "    <tr>\n",
       "      <th>4679</th>\n",
       "      <td>4775</td>\n",
       "      <td>Glitter (2001)</td>\n",
       "      <td>685</td>\n",
       "      <td>1.124088</td>\n",
       "      <td>2001</td>\n",
       "    </tr>\n",
       "    <tr>\n",
       "      <th>12003</th>\n",
       "      <td>54290</td>\n",
       "      <td>Bratz: The Movie (2007)</td>\n",
       "      <td>180</td>\n",
       "      <td>1.105556</td>\n",
       "      <td>2007</td>\n",
       "    </tr>\n",
       "    <tr>\n",
       "      <th>6373</th>\n",
       "      <td>6483</td>\n",
       "      <td>From Justin to Kelly (2003)</td>\n",
       "      <td>426</td>\n",
       "      <td>0.973005</td>\n",
       "      <td>2003</td>\n",
       "    </tr>\n",
       "    <tr>\n",
       "      <th>8176</th>\n",
       "      <td>8859</td>\n",
       "      <td>SuperBabies: Baby Geniuses 2 (2004)</td>\n",
       "      <td>209</td>\n",
       "      <td>0.837321</td>\n",
       "      <td>2004</td>\n",
       "    </tr>\n",
       "    <tr>\n",
       "      <th>7170</th>\n",
       "      <td>7282</td>\n",
       "      <td>Hip Hop Witch, Da (2000)</td>\n",
       "      <td>29</td>\n",
       "      <td>0.724138</td>\n",
       "      <td>2000</td>\n",
       "    </tr>\n",
       "  </tbody>\n",
       "</table>\n",
       "</div>"
      ],
      "text/plain": [
       "       movieId                                              title  num_rating  \\\n",
       "7008      7120                                    DarkWolf (2003)          24   \n",
       "6762      6872                      House of the Dead, The (2003)         447   \n",
       "5641      5740            Faces of Death: Fact or Fiction? (1999)         124   \n",
       "13259    64999          War of the Worlds 2: The Next Wave (2008)          28   \n",
       "5639      5738                            Faces of Death 5 (1996)         157   \n",
       "17508    88301                   Beverly Hills Chihuahua 2 (2011)          27   \n",
       "17625    88764                                   Ponterosa (2001)          24   \n",
       "5573      5672  Pokemon 4 Ever (a.k.a. Pokémon 4: The Movie) (...         472   \n",
       "5640      5739                            Faces of Death 6 (1996)         174   \n",
       "9754     31698                             Son of the Mask (2005)         467   \n",
       "12942    61348                              Disaster Movie (2008)         397   \n",
       "3483      3574                 Carnosaur 3: Primal Species (1996)         139   \n",
       "6266      6371                              Pokémon Heroes (2003)         325   \n",
       "6477      6587                                       Gigli (2003)         701   \n",
       "1746      1826                    Barney's Great Adventure (1998)         419   \n",
       "4679      4775                                     Glitter (2001)         685   \n",
       "12003    54290                            Bratz: The Movie (2007)         180   \n",
       "6373      6483                        From Justin to Kelly (2003)         426   \n",
       "8176      8859                SuperBabies: Baby Geniuses 2 (2004)         209   \n",
       "7170      7282                           Hip Hop Witch, Da (2000)          29   \n",
       "\n",
       "       rating_mean  year  \n",
       "7008      1.375000  2003  \n",
       "6762      1.356823  2003  \n",
       "5641      1.354839  1999  \n",
       "13259     1.339286  2008  \n",
       "5639      1.337580  1996  \n",
       "17508     1.333333  2011  \n",
       "17625     1.333333  2001  \n",
       "5573      1.316737  2002  \n",
       "5640      1.261494  1996  \n",
       "9754      1.252677  2005  \n",
       "12942     1.251889  2008  \n",
       "3483      1.237410  1996  \n",
       "6266      1.167692  2003  \n",
       "6477      1.164051  2003  \n",
       "1746      1.163484  1998  \n",
       "4679      1.124088  2001  \n",
       "12003     1.105556  2007  \n",
       "6373      0.973005  2003  \n",
       "8176      0.837321  2004  \n",
       "7170      0.724138  2000  "
      ]
     },
     "execution_count": 143,
     "metadata": {},
     "output_type": "execute_result"
    }
   ],
   "source": [
    "top_rated[-20:]"
   ]
  },
  {
   "cell_type": "code",
   "execution_count": 7,
   "metadata": {},
   "outputs": [
    {
     "data": {
      "text/html": [
       "<div>\n",
       "<style scoped>\n",
       "    .dataframe tbody tr th:only-of-type {\n",
       "        vertical-align: middle;\n",
       "    }\n",
       "\n",
       "    .dataframe tbody tr th {\n",
       "        vertical-align: top;\n",
       "    }\n",
       "\n",
       "    .dataframe thead th {\n",
       "        text-align: right;\n",
       "    }\n",
       "</style>\n",
       "<table border=\"1\" class=\"dataframe\">\n",
       "  <thead>\n",
       "    <tr style=\"text-align: right;\">\n",
       "      <th></th>\n",
       "      <th>userId</th>\n",
       "      <th>count</th>\n",
       "      <th>mean</th>\n",
       "    </tr>\n",
       "  </thead>\n",
       "  <tbody>\n",
       "    <tr>\n",
       "      <th>0</th>\n",
       "      <td>118205</td>\n",
       "      <td>9254</td>\n",
       "      <td>3.279069</td>\n",
       "    </tr>\n",
       "    <tr>\n",
       "      <th>1</th>\n",
       "      <td>8405</td>\n",
       "      <td>7515</td>\n",
       "      <td>3.208317</td>\n",
       "    </tr>\n",
       "    <tr>\n",
       "      <th>2</th>\n",
       "      <td>82418</td>\n",
       "      <td>5646</td>\n",
       "      <td>3.516915</td>\n",
       "    </tr>\n",
       "    <tr>\n",
       "      <th>3</th>\n",
       "      <td>121535</td>\n",
       "      <td>5520</td>\n",
       "      <td>2.793116</td>\n",
       "    </tr>\n",
       "    <tr>\n",
       "      <th>4</th>\n",
       "      <td>125794</td>\n",
       "      <td>5491</td>\n",
       "      <td>3.762976</td>\n",
       "    </tr>\n",
       "    <tr>\n",
       "      <th>...</th>\n",
       "      <td>...</td>\n",
       "      <td>...</td>\n",
       "      <td>...</td>\n",
       "    </tr>\n",
       "    <tr>\n",
       "      <th>138488</th>\n",
       "      <td>89305</td>\n",
       "      <td>20</td>\n",
       "      <td>3.750000</td>\n",
       "    </tr>\n",
       "    <tr>\n",
       "      <th>138489</th>\n",
       "      <td>110463</td>\n",
       "      <td>20</td>\n",
       "      <td>3.750000</td>\n",
       "    </tr>\n",
       "    <tr>\n",
       "      <th>138490</th>\n",
       "      <td>96990</td>\n",
       "      <td>20</td>\n",
       "      <td>3.825000</td>\n",
       "    </tr>\n",
       "    <tr>\n",
       "      <th>138491</th>\n",
       "      <td>134747</td>\n",
       "      <td>20</td>\n",
       "      <td>2.975000</td>\n",
       "    </tr>\n",
       "    <tr>\n",
       "      <th>138492</th>\n",
       "      <td>6526</td>\n",
       "      <td>20</td>\n",
       "      <td>3.275000</td>\n",
       "    </tr>\n",
       "  </tbody>\n",
       "</table>\n",
       "<p>138493 rows × 3 columns</p>\n",
       "</div>"
      ],
      "text/plain": [
       "        userId  count      mean\n",
       "0       118205   9254  3.279069\n",
       "1         8405   7515  3.208317\n",
       "2        82418   5646  3.516915\n",
       "3       121535   5520  2.793116\n",
       "4       125794   5491  3.762976\n",
       "...        ...    ...       ...\n",
       "138488   89305     20  3.750000\n",
       "138489  110463     20  3.750000\n",
       "138490   96990     20  3.825000\n",
       "138491  134747     20  2.975000\n",
       "138492    6526     20  3.275000\n",
       "\n",
       "[138493 rows x 3 columns]"
      ]
     },
     "execution_count": 7,
     "metadata": {},
     "output_type": "execute_result"
    }
   ],
   "source": [
    "user_rating = ratings.groupby('userId')['rating'].agg(['count', 'mean']).sort_values('count', ascending=False).reset_index()\n",
    "user_rating"
   ]
  },
  {
   "cell_type": "code",
   "execution_count": 11,
   "metadata": {},
   "outputs": [
    {
     "data": {
      "image/png": "[encoded data removed]",
      "text/plain": [
       "<Figure size 864x576 with 1 Axes>"
      ]
     },
     "metadata": {
      "needs_background": "light"
     },
     "output_type": "display_data"
    }
   ],
   "source": [
    "ax = user_rating['count']\\\n",
    ".plot(figsize=(12, 8),\n",
    "        title='Rating Frequency of All Users',\n",
    "        fontsize=12,\n",
    "         c = 'darkorange')\n",
    "ax.set_xlabel(\"User Id\");\n",
    "ax.set_ylabel(\"number of ratings\");"
   ]
  },
  {
   "cell_type": "markdown",
   "metadata": {},
   "source": [
    "User and Movie IDs follow the same distribution. lot of users have rated very few movies. "
   ]
  },
  {
   "cell_type": "code",
   "execution_count": 170,
   "metadata": {},
   "outputs": [],
   "source": [
    "user_rating['users'] = 'User_'+user_rating['userId']"
   ]
  },
  {
   "cell_type": "code",
   "execution_count": 172,
   "metadata": {},
   "outputs": [
    {
     "data": {
      "text/html": [
       "<div>\n",
       "<style scoped>\n",
       "    .dataframe tbody tr th:only-of-type {\n",
       "        vertical-align: middle;\n",
       "    }\n",
       "\n",
       "    .dataframe tbody tr th {\n",
       "        vertical-align: top;\n",
       "    }\n",
       "\n",
       "    .dataframe thead th {\n",
       "        text-align: right;\n",
       "    }\n",
       "</style>\n",
       "<table border=\"1\" class=\"dataframe\">\n",
       "  <thead>\n",
       "    <tr style=\"text-align: right;\">\n",
       "      <th></th>\n",
       "      <th>userId</th>\n",
       "      <th>count</th>\n",
       "      <th>mean</th>\n",
       "      <th>users</th>\n",
       "    </tr>\n",
       "  </thead>\n",
       "  <tbody>\n",
       "    <tr>\n",
       "      <th>0</th>\n",
       "      <td>118205</td>\n",
       "      <td>9254</td>\n",
       "      <td>3.279069</td>\n",
       "      <td>User_118205</td>\n",
       "    </tr>\n",
       "    <tr>\n",
       "      <th>1</th>\n",
       "      <td>8405</td>\n",
       "      <td>7515</td>\n",
       "      <td>3.208317</td>\n",
       "      <td>User_8405</td>\n",
       "    </tr>\n",
       "    <tr>\n",
       "      <th>2</th>\n",
       "      <td>82418</td>\n",
       "      <td>5646</td>\n",
       "      <td>3.516915</td>\n",
       "      <td>User_82418</td>\n",
       "    </tr>\n",
       "    <tr>\n",
       "      <th>3</th>\n",
       "      <td>121535</td>\n",
       "      <td>5520</td>\n",
       "      <td>2.793116</td>\n",
       "      <td>User_121535</td>\n",
       "    </tr>\n",
       "    <tr>\n",
       "      <th>4</th>\n",
       "      <td>125794</td>\n",
       "      <td>5491</td>\n",
       "      <td>3.762976</td>\n",
       "      <td>User_125794</td>\n",
       "    </tr>\n",
       "    <tr>\n",
       "      <th>...</th>\n",
       "      <td>...</td>\n",
       "      <td>...</td>\n",
       "      <td>...</td>\n",
       "      <td>...</td>\n",
       "    </tr>\n",
       "    <tr>\n",
       "      <th>138488</th>\n",
       "      <td>89305</td>\n",
       "      <td>20</td>\n",
       "      <td>3.750000</td>\n",
       "      <td>User_89305</td>\n",
       "    </tr>\n",
       "    <tr>\n",
       "      <th>138489</th>\n",
       "      <td>110463</td>\n",
       "      <td>20</td>\n",
       "      <td>3.750000</td>\n",
       "      <td>User_110463</td>\n",
       "    </tr>\n",
       "    <tr>\n",
       "      <th>138490</th>\n",
       "      <td>96990</td>\n",
       "      <td>20</td>\n",
       "      <td>3.825000</td>\n",
       "      <td>User_96990</td>\n",
       "    </tr>\n",
       "    <tr>\n",
       "      <th>138491</th>\n",
       "      <td>134747</td>\n",
       "      <td>20</td>\n",
       "      <td>2.975000</td>\n",
       "      <td>User_134747</td>\n",
       "    </tr>\n",
       "    <tr>\n",
       "      <th>138492</th>\n",
       "      <td>6526</td>\n",
       "      <td>20</td>\n",
       "      <td>3.275000</td>\n",
       "      <td>User_6526</td>\n",
       "    </tr>\n",
       "  </tbody>\n",
       "</table>\n",
       "<p>138493 rows × 4 columns</p>\n",
       "</div>"
      ],
      "text/plain": [
       "        userId  count      mean        users\n",
       "0       118205   9254  3.279069  User_118205\n",
       "1         8405   7515  3.208317    User_8405\n",
       "2        82418   5646  3.516915   User_82418\n",
       "3       121535   5520  2.793116  User_121535\n",
       "4       125794   5491  3.762976  User_125794\n",
       "...        ...    ...       ...          ...\n",
       "138488   89305     20  3.750000   User_89305\n",
       "138489  110463     20  3.750000  User_110463\n",
       "138490   96990     20  3.825000   User_96990\n",
       "138491  134747     20  2.975000  User_134747\n",
       "138492    6526     20  3.275000    User_6526\n",
       "\n",
       "[138493 rows x 4 columns]"
      ]
     },
     "execution_count": 172,
     "metadata": {},
     "output_type": "execute_result"
    }
   ],
   "source": [
    "user_rating"
   ]
  },
  {
   "cell_type": "code",
   "execution_count": 192,
   "metadata": {},
   "outputs": [
    {
     "data": {
      "image/png": "[encoded data removed]",
      "text/plain": [
       "<Figure size 504x720 with 1 Axes>"
      ]
     },
     "metadata": {
      "needs_background": "light"
     },
     "output_type": "display_data"
    }
   ],
   "source": [
    "\n",
    "f, ax = plt.subplots(figsize=(7,10))\n",
    "b = sns.barplot(y='users', x='count', data=user_rating[:20], palette=sns.diverging_palette(230,10,n=20))\n",
    "#b.set(xlim=(4.1,4.5))\n",
    "ax.set_title('Top Active Users')\n",
    "ax.set_ylabel('')\n",
    "ax.set_xlabel('Number of Movies Rated')\n",
    "plt.show()"
   ]
  },
  {
   "cell_type": "code",
   "execution_count": 7,
   "metadata": {},
   "outputs": [
    {
     "data": {
      "text/html": [
       "<div>\n",
       "<style scoped>\n",
       "    .dataframe tbody tr th:only-of-type {\n",
       "        vertical-align: middle;\n",
       "    }\n",
       "\n",
       "    .dataframe tbody tr th {\n",
       "        vertical-align: top;\n",
       "    }\n",
       "\n",
       "    .dataframe thead th {\n",
       "        text-align: right;\n",
       "    }\n",
       "</style>\n",
       "<table border=\"1\" class=\"dataframe\">\n",
       "  <thead>\n",
       "    <tr style=\"text-align: right;\">\n",
       "      <th></th>\n",
       "      <th>userId</th>\n",
       "      <th>movieId</th>\n",
       "      <th>tag</th>\n",
       "      <th>timestamp</th>\n",
       "    </tr>\n",
       "  </thead>\n",
       "  <tbody>\n",
       "    <tr>\n",
       "      <th>0</th>\n",
       "      <td>18</td>\n",
       "      <td>4141</td>\n",
       "      <td>Mark Waters</td>\n",
       "      <td>2009-04-24 18:19:40</td>\n",
       "    </tr>\n",
       "    <tr>\n",
       "      <th>1</th>\n",
       "      <td>65</td>\n",
       "      <td>208</td>\n",
       "      <td>dark hero</td>\n",
       "      <td>2013-05-10 01:41:18</td>\n",
       "    </tr>\n",
       "    <tr>\n",
       "      <th>2</th>\n",
       "      <td>65</td>\n",
       "      <td>353</td>\n",
       "      <td>dark hero</td>\n",
       "      <td>2013-05-10 01:41:19</td>\n",
       "    </tr>\n",
       "    <tr>\n",
       "      <th>3</th>\n",
       "      <td>65</td>\n",
       "      <td>521</td>\n",
       "      <td>noir thriller</td>\n",
       "      <td>2013-05-10 01:39:43</td>\n",
       "    </tr>\n",
       "    <tr>\n",
       "      <th>4</th>\n",
       "      <td>65</td>\n",
       "      <td>592</td>\n",
       "      <td>dark hero</td>\n",
       "      <td>2013-05-10 01:41:18</td>\n",
       "    </tr>\n",
       "    <tr>\n",
       "      <th>...</th>\n",
       "      <td>...</td>\n",
       "      <td>...</td>\n",
       "      <td>...</td>\n",
       "      <td>...</td>\n",
       "    </tr>\n",
       "    <tr>\n",
       "      <th>465559</th>\n",
       "      <td>138446</td>\n",
       "      <td>55999</td>\n",
       "      <td>dragged</td>\n",
       "      <td>2013-01-23 23:29:32</td>\n",
       "    </tr>\n",
       "    <tr>\n",
       "      <th>465560</th>\n",
       "      <td>138446</td>\n",
       "      <td>55999</td>\n",
       "      <td>Jason Bateman</td>\n",
       "      <td>2013-01-23 23:29:38</td>\n",
       "    </tr>\n",
       "    <tr>\n",
       "      <th>465561</th>\n",
       "      <td>138446</td>\n",
       "      <td>55999</td>\n",
       "      <td>quirky</td>\n",
       "      <td>2013-01-23 23:29:38</td>\n",
       "    </tr>\n",
       "    <tr>\n",
       "      <th>465562</th>\n",
       "      <td>138446</td>\n",
       "      <td>55999</td>\n",
       "      <td>sad</td>\n",
       "      <td>2013-01-23 23:29:32</td>\n",
       "    </tr>\n",
       "    <tr>\n",
       "      <th>465563</th>\n",
       "      <td>138472</td>\n",
       "      <td>923</td>\n",
       "      <td>rise to power</td>\n",
       "      <td>2007-11-02 21:12:47</td>\n",
       "    </tr>\n",
       "  </tbody>\n",
       "</table>\n",
       "<p>465564 rows × 4 columns</p>\n",
       "</div>"
      ],
      "text/plain": [
       "        userId  movieId            tag            timestamp\n",
       "0           18     4141    Mark Waters  2009-04-24 18:19:40\n",
       "1           65      208      dark hero  2013-05-10 01:41:18\n",
       "2           65      353      dark hero  2013-05-10 01:41:19\n",
       "3           65      521  noir thriller  2013-05-10 01:39:43\n",
       "4           65      592      dark hero  2013-05-10 01:41:18\n",
       "...        ...      ...            ...                  ...\n",
       "465559  138446    55999        dragged  2013-01-23 23:29:32\n",
       "465560  138446    55999  Jason Bateman  2013-01-23 23:29:38\n",
       "465561  138446    55999         quirky  2013-01-23 23:29:38\n",
       "465562  138446    55999            sad  2013-01-23 23:29:32\n",
       "465563  138472      923  rise to power  2007-11-02 21:12:47\n",
       "\n",
       "[465564 rows x 4 columns]"
      ]
     },
     "execution_count": 7,
     "metadata": {},
     "output_type": "execute_result"
    }
   ],
   "source": [
    "tag"
   ]
  },
  {
   "cell_type": "markdown",
   "metadata": {},
   "source": [
    "### Benford's Law"
   ]
  },
  {
   "cell_type": "code",
   "execution_count": 10,
   "metadata": {},
   "outputs": [
    {
     "data": {
      "text/plain": [
       "range(1, 10)"
      ]
     },
     "execution_count": 10,
     "metadata": {},
     "output_type": "execute_result"
    }
   ],
   "source": [
    "import math"
   ]
  },
  {
   "cell_type": "code",
   "execution_count": 28,
   "metadata": {},
   "outputs": [],
   "source": [
    "def benford_law():\n",
    "    return [math.log10(1+1/float(i)) *100.0 for i in range(1,10)]"
   ]
  },
  {
   "cell_type": "code",
   "execution_count": 42,
   "metadata": {},
   "outputs": [],
   "source": [
    "movie['first_num'] = movie.movieId.apply(lambda s: str(s)[0])"
   ]
  },
  {
   "cell_type": "code",
   "execution_count": 62,
   "metadata": {},
   "outputs": [],
   "source": [
    "first_count = movie.first_num.value_counts(normalize=True).mul(100)\n",
    "ben= benford_law()\n"
   ]
  },
  {
   "cell_type": "code",
   "execution_count": 71,
   "metadata": {},
   "outputs": [
    {
     "data": {
      "image/png": "[encoded data removed]",
      "text/plain": [
       "<Figure size 504x360 with 1 Axes>"
      ]
     },
     "metadata": {
      "needs_background": "light"
     },
     "output_type": "display_data"
    }
   ],
   "source": [
    "plt.subplots(figsize=(7,5))\n",
    "plt.bar(x=range(1,10),height =first_count, label='Movie')\n",
    "plt.plot(range(1,10), ben, ls='--', c='red', label='Benford Law')\n",
    "plt.legend()\n",
    "plt.xticks(range(1,10));\n",
    "plt.ylabel('% distribution');\n",
    "plt.xlabel('First Numeral');\n",
    "plt.title('Benford Distribution of Movies');"
   ]
  },
  {
   "cell_type": "markdown",
   "metadata": {},
   "source": [
    "MovieIds is not the kind of distribution that would follow Benfords Law since it's made up of numbers used as identification (i.e. for movies). Still it does seem to follow the pattern somewhat i.e. distribution follows a decreasing mannger from 1 down to 9. "
   ]
  },
  {
   "cell_type": "markdown",
   "metadata": {},
   "source": [
    "## Content Based Filtering\n",
    "\n",
    "Content based filtering using countvectorizer to encode our genre and tags as movie features. Later we will use cosine similarity to build a movie to movie matrix. It'll be easier to lookup most similar movies against a given title. "
   ]
  },
  {
   "cell_type": "code",
   "execution_count": 57,
   "metadata": {},
   "outputs": [
    {
     "name": "stderr",
     "output_type": "stream",
     "text": [
      "C:\\ProgramData\\Anaconda3\\lib\\site-packages\\ipykernel_launcher.py:1: UserWarning: Pandas doesn't allow columns to be created via a new attribute name - see https://pandas.pydata.org/pandas-docs/stable/indexing.html#attribute-access\n",
      "  \"\"\"Entry point for launching an IPython kernel.\n"
     ]
    }
   ],
   "source": [
    "df.keywords = df['genres']+ ', ' + df['tag']"
   ]
  },
  {
   "cell_type": "code",
   "execution_count": 58,
   "metadata": {},
   "outputs": [
    {
     "data": {
      "text/plain": [
       "movieId     0.000000\n",
       "title       0.000000\n",
       "genres      0.000000\n",
       "tags       61.943691\n",
       "tag        28.348853\n",
       "dtype: float64"
      ]
     },
     "execution_count": 58,
     "metadata": {},
     "output_type": "execute_result"
    }
   ],
   "source": [
    "df.isnull().sum()/len(df)*100"
   ]
  },
  {
   "cell_type": "code",
   "execution_count": 59,
   "metadata": {},
   "outputs": [],
   "source": [
    "df['tags'] = df['tags'].fillna('')\n",
    "df['tag'] = df['tag'].fillna('')"
   ]
  },
  {
   "cell_type": "code",
   "execution_count": 60,
   "metadata": {},
   "outputs": [],
   "source": [
    "df['keywords'] = df['genres']+ ', ' + df['tags'] + ', ' + df['tag']"
   ]
  },
  {
   "cell_type": "code",
   "execution_count": 61,
   "metadata": {},
   "outputs": [
    {
     "data": {
      "text/plain": [
       "movieId     0.0\n",
       "title       0.0\n",
       "genres      0.0\n",
       "tags        0.0\n",
       "tag         0.0\n",
       "keywords    0.0\n",
       "dtype: float64"
      ]
     },
     "execution_count": 61,
     "metadata": {},
     "output_type": "execute_result"
    }
   ],
   "source": [
    "df.fillna('').isnull().sum()/len(df)*100"
   ]
  },
  {
   "cell_type": "code",
   "execution_count": 63,
   "metadata": {},
   "outputs": [],
   "source": [
    "cv = CountVectorizer()\n",
    "vect = cv.fit_transform(df['keywords'])"
   ]
  },
  {
   "cell_type": "code",
   "execution_count": 65,
   "metadata": {},
   "outputs": [],
   "source": [
    "cosine_sim = cosine_similarity(vect, vect)"
   ]
  },
  {
   "cell_type": "code",
   "execution_count": 66,
   "metadata": {},
   "outputs": [
    {
     "data": {
      "text/plain": [
       "(27278, 27278)"
      ]
     },
     "execution_count": 66,
     "metadata": {},
     "output_type": "execute_result"
    }
   ],
   "source": [
    "cosine_sim.shape"
   ]
  },
  {
   "cell_type": "markdown",
   "metadata": {},
   "source": [
    "cosine_sim is a similarity matrix based on cosine similarity. It has all movies in rows and columns with each value corresponding to similarity between the movies. we can lookup this matrix to find the most similar movies against any title. Below function does exactly that, it looks up a user given 'title' of a movie against the matrix and prints out 'n' number of similar movies.  "
   ]
  },
  {
   "cell_type": "code",
   "execution_count": 67,
   "metadata": {},
   "outputs": [],
   "source": [
    "def recommendation(title, n=10, cosine_sim=cosine_sim):\n",
    "    \n",
    "    mov_idx = df.title \n",
    "    # series of movie titles with corresponding indicies. We need to lookup using indicies in our \n",
    "    # similarity matrix\n",
    "\n",
    "    idx = mov_idx[mov_idx == title].index[0] # return the index of our title that will be used to lookup in similarity matrix\n",
    "\n",
    "\n",
    "    scores_ = pd.Series(cosine_sim[idx]).sort_values(ascending=False) # sorted similar movie vector with similarity scores and indicies\n",
    "    \n",
    "    print ('Top {} recommendations for Movie {}:'.format(n,title))\n",
    "    print('--'*10)\n",
    "    for i in scores_.index[1:n+1]:\n",
    "        print(mov_idx[i])"
   ]
  },
  {
   "cell_type": "code",
   "execution_count": 346,
   "metadata": {},
   "outputs": [],
   "source": [
    "def title_lookup(name, mapper):\n",
    "    '''\n",
    "    Title lookup function to easily lookup movie title without having to worry about exact movie name as in our dataframe\n",
    "    It uses Edit distance (Levenshtein distance ratio) to find close matches to given string on the database.\n",
    "    \n",
    "    name = Given name of the title to lookup the database\n",
    "    mapper = Dictionary of Movies:Index \n",
    "    \n",
    "    It returns matched titles, their index in the database and the corresponding edit distance ratio\n",
    "    \n",
    "    '''\n",
    "    matched = []\n",
    "    for title, ix in mapper.items():\n",
    "        ED = fuzz.ratio(title.lower(), name.lower())\n",
    "        if ED >= 60:\n",
    "            matched.append((title, ix, ED))\n",
    "    \n",
    "    if matched == []:\n",
    "        return [('No Match Found', 'N/A', 'N/A')]\n",
    "    else:\n",
    "        return matched\n",
    "    \n",
    "#     mov = df.title.str.lower()\n",
    "#     if mov.str.contains(title).sum() !=0:\n",
    "#         idd = mov[mov.str.contains(title)].index[0]\n",
    "#     else:\n",
    "#         print ('Title Not Found')\n",
    "#     return idd"
   ]
  },
  {
   "cell_type": "code",
   "execution_count": 230,
   "metadata": {},
   "outputs": [],
   "source": [
    "mapper = {mov:i for i,mov in enumerate(list(df['title']))}"
   ]
  },
  {
   "cell_type": "code",
   "execution_count": 234,
   "metadata": {},
   "outputs": [
    {
     "name": "stdout",
     "output_type": "stream",
     "text": [
      "Please Enter Movie Name for Recommendations:matrix,the\n",
      "Top 20 recommendations for Movie Matrix, The (1999):\n",
      "--------------------\n",
      "Matrix Revolutions, The (2003)\n",
      "Matrix Reloaded, The (2003)\n",
      "Avalon (2001)\n",
      "Dark City (1998)\n",
      "eXistenZ (1999)\n",
      "Strange Days (1995)\n",
      "Tron (1982)\n",
      "Logan's Run (1976)\n",
      "Visitor to a Museum (Posetitel muzeya) (1989)\n",
      "Captive Women (1000 Years from Now) (3000 A.D.) (1952)\n",
      "Thirteenth Floor, The (1999)\n",
      "Gamer (2009)\n",
      "Tron: Legacy (2010)\n",
      "Planet of the Future, The (2010)\n",
      "Johnny Mnemonic (1995)\n",
      "Sleep Dealer (2008)\n",
      "Dawn of the Planet of the Apes (2014)\n",
      "Autómata (Automata) (2014)\n",
      "Aeon Flux (2005)\n",
      "Oblivion (2013)\n"
     ]
    }
   ],
   "source": [
    "m = str(input(\"Please Enter Movie Name for Recommendations:\"))\n",
    "im, idd, _ = title_lookup(name=m, mapper=mapper)[0]\n",
    "if im == 'No Match Found':\n",
    "    print(im)\n",
    "else:\n",
    "    recommendation(df.loc[idd,'title'], n=20)"
   ]
  },
  {
   "cell_type": "code",
   "execution_count": 127,
   "metadata": {},
   "outputs": [
    {
     "data": {
      "text/plain": [
       "[('Iron Man (2008)', 12631, 70)]"
      ]
     },
     "execution_count": 127,
     "metadata": {},
     "output_type": "execute_result"
    }
   ],
   "source": [
    "title_lookup(name=m, mapper=mapper)"
   ]
  },
  {
   "cell_type": "code",
   "execution_count": 87,
   "metadata": {},
   "outputs": [],
   "source": [
    "name='iron man'"
   ]
  },
  {
   "cell_type": "markdown",
   "metadata": {},
   "source": [
    "## Collaborative Filtering\n",
    "\n",
    "### Memory Based CF\n",
    "#### Item-Item Collabroative Filtering"
   ]
  },
  {
   "cell_type": "markdown",
   "metadata": {},
   "source": [
    "Main difference when compared to Content Based Filtering is that Collaborative filtering doesn't use item features i.e. Genre, tags etc. It just makes use to ratings provided by the users. \n",
    "\n",
    "We will need to make a sparse matrix (since most of the enteries will be blank i.e. not all movies are rated by all users). \n",
    "\n",
    "However since the dataset is very large, we will need to filter only the popular movies & most active users, let's see what would be appropriate threshold for that. We will re-created some of the earlier plots"
   ]
  },
  {
   "cell_type": "code",
   "execution_count": 254,
   "metadata": {},
   "outputs": [
    {
     "data": {
      "image/png": "[encoded data removed]",
      "text/plain": [
       "<Figure size 432x288 with 1 Axes>"
      ]
     },
     "metadata": {
      "needs_background": "light"
     },
     "output_type": "display_data"
    }
   ],
   "source": [
    "avg_rating['num_rating'].sort_values(ascending=False).reset_index(drop=True).plot();"
   ]
  },
  {
   "cell_type": "markdown",
   "metadata": {},
   "source": [
    "The distribution of ratings among movies often satisfies a property in real-world settings, which is referred to as the long-tail property. According to this property, only a small fraction of the items are rated frequently. Such items are referred to as popular items. The vast majority of items are rated rarely. This results in a highly skewed distribution of the underlying ratings."
   ]
  },
  {
   "cell_type": "code",
   "execution_count": 227,
   "metadata": {},
   "outputs": [
    {
     "data": {
      "image/png": "[encoded data removed]",
      "text/plain": [
       "<Figure size 720x360 with 1 Axes>"
      ]
     },
     "metadata": {
      "needs_background": "light"
     },
     "output_type": "display_data"
    }
   ],
   "source": [
    "plt.subplots(figsize=(10,5))\n",
    "sns.boxplot(avg_rating.num_rating,showfliers=False);"
   ]
  },
  {
   "cell_type": "code",
   "execution_count": 12,
   "metadata": {},
   "outputs": [
    {
     "data": {
      "text/html": [
       "<style  type=\"text/css\" >\n",
       "    #T_d060a948_871e_11ea_9773_9cb6d0e7d6d4row0_col0 {\n",
       "            background:  Yellow;\n",
       "        }    #T_d060a948_871e_11ea_9773_9cb6d0e7d6d4row1_col0 {\n",
       "            background:  Yellow;\n",
       "        }    #T_d060a948_871e_11ea_9773_9cb6d0e7d6d4row2_col0 {\n",
       "            background:  Yellow;\n",
       "        }    #T_d060a948_871e_11ea_9773_9cb6d0e7d6d4row3_col0 {\n",
       "            background:  Yellow;\n",
       "        }    #T_d060a948_871e_11ea_9773_9cb6d0e7d6d4row4_col0 {\n",
       "            background:  Yellow;\n",
       "        }    #T_d060a948_871e_11ea_9773_9cb6d0e7d6d4row5_col0 {\n",
       "            background:  Yellow;\n",
       "        }    #T_d060a948_871e_11ea_9773_9cb6d0e7d6d4row6_col0 {\n",
       "            background:  Yellow;\n",
       "        }    #T_d060a948_871e_11ea_9773_9cb6d0e7d6d4row7_col0 {\n",
       "            background:  Yellow;\n",
       "        }    #T_d060a948_871e_11ea_9773_9cb6d0e7d6d4row8_col0 {\n",
       "            background:  Yellow;\n",
       "        }</style><table id=\"T_d060a948_871e_11ea_9773_9cb6d0e7d6d4\" ><thead>    <tr>        <th class=\"blank level0\" ></th>        <th class=\"col_heading level0 col0\" >num_rating</th>    </tr></thead><tbody>\n",
       "                <tr>\n",
       "                        <th id=\"T_d060a948_871e_11ea_9773_9cb6d0e7d6d4level0_row0\" class=\"row_heading level0 row0\" >1.0</th>\n",
       "                        <td id=\"T_d060a948_871e_11ea_9773_9cb6d0e7d6d4row0_col0\" class=\"data row0 col0\" >67310.000000</td>\n",
       "            </tr>\n",
       "            <tr>\n",
       "                        <th id=\"T_d060a948_871e_11ea_9773_9cb6d0e7d6d4level0_row1\" class=\"row_heading level0 row1\" >0.95</th>\n",
       "                        <td id=\"T_d060a948_871e_11ea_9773_9cb6d0e7d6d4row1_col0\" class=\"data row1 col0\" >3612.950000</td>\n",
       "            </tr>\n",
       "            <tr>\n",
       "                        <th id=\"T_d060a948_871e_11ea_9773_9cb6d0e7d6d4level0_row2\" class=\"row_heading level0 row2\" >0.9</th>\n",
       "                        <td id=\"T_d060a948_871e_11ea_9773_9cb6d0e7d6d4row2_col0\" class=\"data row2 col0\" >1305.700000</td>\n",
       "            </tr>\n",
       "            <tr>\n",
       "                        <th id=\"T_d060a948_871e_11ea_9773_9cb6d0e7d6d4level0_row3\" class=\"row_heading level0 row3\" >0.85</th>\n",
       "                        <td id=\"T_d060a948_871e_11ea_9773_9cb6d0e7d6d4row3_col0\" class=\"data row3 col0\" >632.550000</td>\n",
       "            </tr>\n",
       "            <tr>\n",
       "                        <th id=\"T_d060a948_871e_11ea_9773_9cb6d0e7d6d4level0_row4\" class=\"row_heading level0 row4\" >0.8</th>\n",
       "                        <td id=\"T_d060a948_871e_11ea_9773_9cb6d0e7d6d4row4_col0\" class=\"data row4 col0\" >346.000000</td>\n",
       "            </tr>\n",
       "            <tr>\n",
       "                        <th id=\"T_d060a948_871e_11ea_9773_9cb6d0e7d6d4level0_row5\" class=\"row_heading level0 row5\" >0.75</th>\n",
       "                        <td id=\"T_d060a948_871e_11ea_9773_9cb6d0e7d6d4row5_col0\" class=\"data row5 col0\" >205.000000</td>\n",
       "            </tr>\n",
       "            <tr>\n",
       "                        <th id=\"T_d060a948_871e_11ea_9773_9cb6d0e7d6d4level0_row6\" class=\"row_heading level0 row6\" >0.7</th>\n",
       "                        <td id=\"T_d060a948_871e_11ea_9773_9cb6d0e7d6d4row6_col0\" class=\"data row6 col0\" >123.000000</td>\n",
       "            </tr>\n",
       "            <tr>\n",
       "                        <th id=\"T_d060a948_871e_11ea_9773_9cb6d0e7d6d4level0_row7\" class=\"row_heading level0 row7\" >0.65</th>\n",
       "                        <td id=\"T_d060a948_871e_11ea_9773_9cb6d0e7d6d4row7_col0\" class=\"data row7 col0\" >74.000000</td>\n",
       "            </tr>\n",
       "            <tr>\n",
       "                        <th id=\"T_d060a948_871e_11ea_9773_9cb6d0e7d6d4level0_row8\" class=\"row_heading level0 row8\" >0.6</th>\n",
       "                        <td id=\"T_d060a948_871e_11ea_9773_9cb6d0e7d6d4row8_col0\" class=\"data row8 col0\" >47.000000</td>\n",
       "            </tr>\n",
       "            <tr>\n",
       "                        <th id=\"T_d060a948_871e_11ea_9773_9cb6d0e7d6d4level0_row9\" class=\"row_heading level0 row9\" >0.55</th>\n",
       "                        <td id=\"T_d060a948_871e_11ea_9773_9cb6d0e7d6d4row9_col0\" class=\"data row9 col0\" >29.000000</td>\n",
       "            </tr>\n",
       "            <tr>\n",
       "                        <th id=\"T_d060a948_871e_11ea_9773_9cb6d0e7d6d4level0_row10\" class=\"row_heading level0 row10\" >0.5</th>\n",
       "                        <td id=\"T_d060a948_871e_11ea_9773_9cb6d0e7d6d4row10_col0\" class=\"data row10 col0\" >18.000000</td>\n",
       "            </tr>\n",
       "            <tr>\n",
       "                        <th id=\"T_d060a948_871e_11ea_9773_9cb6d0e7d6d4level0_row11\" class=\"row_heading level0 row11\" >0.45</th>\n",
       "                        <td id=\"T_d060a948_871e_11ea_9773_9cb6d0e7d6d4row11_col0\" class=\"data row11 col0\" >12.000000</td>\n",
       "            </tr>\n",
       "            <tr>\n",
       "                        <th id=\"T_d060a948_871e_11ea_9773_9cb6d0e7d6d4level0_row12\" class=\"row_heading level0 row12\" >0.4</th>\n",
       "                        <td id=\"T_d060a948_871e_11ea_9773_9cb6d0e7d6d4row12_col0\" class=\"data row12 col0\" >8.000000</td>\n",
       "            </tr>\n",
       "            <tr>\n",
       "                        <th id=\"T_d060a948_871e_11ea_9773_9cb6d0e7d6d4level0_row13\" class=\"row_heading level0 row13\" >0.35</th>\n",
       "                        <td id=\"T_d060a948_871e_11ea_9773_9cb6d0e7d6d4row13_col0\" class=\"data row13 col0\" >6.000000</td>\n",
       "            </tr>\n",
       "            <tr>\n",
       "                        <th id=\"T_d060a948_871e_11ea_9773_9cb6d0e7d6d4level0_row14\" class=\"row_heading level0 row14\" >0.3</th>\n",
       "                        <td id=\"T_d060a948_871e_11ea_9773_9cb6d0e7d6d4row14_col0\" class=\"data row14 col0\" >4.000000</td>\n",
       "            </tr>\n",
       "            <tr>\n",
       "                        <th id=\"T_d060a948_871e_11ea_9773_9cb6d0e7d6d4level0_row15\" class=\"row_heading level0 row15\" >0.25</th>\n",
       "                        <td id=\"T_d060a948_871e_11ea_9773_9cb6d0e7d6d4row15_col0\" class=\"data row15 col0\" >3.000000</td>\n",
       "            </tr>\n",
       "            <tr>\n",
       "                        <th id=\"T_d060a948_871e_11ea_9773_9cb6d0e7d6d4level0_row16\" class=\"row_heading level0 row16\" >0.2</th>\n",
       "                        <td id=\"T_d060a948_871e_11ea_9773_9cb6d0e7d6d4row16_col0\" class=\"data row16 col0\" >2.000000</td>\n",
       "            </tr>\n",
       "            <tr>\n",
       "                        <th id=\"T_d060a948_871e_11ea_9773_9cb6d0e7d6d4level0_row17\" class=\"row_heading level0 row17\" >0.15</th>\n",
       "                        <td id=\"T_d060a948_871e_11ea_9773_9cb6d0e7d6d4row17_col0\" class=\"data row17 col0\" >2.000000</td>\n",
       "            </tr>\n",
       "            <tr>\n",
       "                        <th id=\"T_d060a948_871e_11ea_9773_9cb6d0e7d6d4level0_row18\" class=\"row_heading level0 row18\" >0.1</th>\n",
       "                        <td id=\"T_d060a948_871e_11ea_9773_9cb6d0e7d6d4row18_col0\" class=\"data row18 col0\" >1.000000</td>\n",
       "            </tr>\n",
       "            <tr>\n",
       "                        <th id=\"T_d060a948_871e_11ea_9773_9cb6d0e7d6d4level0_row19\" class=\"row_heading level0 row19\" >0.05</th>\n",
       "                        <td id=\"T_d060a948_871e_11ea_9773_9cb6d0e7d6d4row19_col0\" class=\"data row19 col0\" >1.000000</td>\n",
       "            </tr>\n",
       "    </tbody></table>"
      ],
      "text/plain": [
       "<pandas.io.formats.style.Styler at 0x23f83966a08>"
      ]
     },
     "execution_count": 12,
     "metadata": {},
     "output_type": "execute_result"
    }
   ],
   "source": [
    "pd.DataFrame(avg_rating.num_rating.quantile(np.round(np.arange(1, 0, -0.05),2)))\\\n",
    ".style.apply(lambda x: [\"background: Yellow\" if v>=47 else \"\" for v in x], axis = 1)"
   ]
  },
  {
   "cell_type": "code",
   "execution_count": 66,
   "metadata": {},
   "outputs": [
    {
     "data": {
      "text/plain": [
       "10524"
      ]
     },
     "execution_count": 66,
     "metadata": {},
     "output_type": "execute_result"
    }
   ],
   "source": [
    "len(avg_rating[avg_rating.num_rating>=50])#/len(avg_rating)"
   ]
  },
  {
   "cell_type": "markdown",
   "metadata": {},
   "source": [
    "As seen before, 50% of the movies have ratings less than or equals to 18, if we consider number of rating threshold to be 50 (i.e. movies that have been rated atleast by 50 users), it would roughly cover around 40% of the movies (around 10524 movies out of 26744 rated movies)."
   ]
  },
  {
   "cell_type": "code",
   "execution_count": 46,
   "metadata": {},
   "outputs": [
    {
     "data": {
      "image/png": "[encoded data removed]",
      "text/plain": [
       "<Figure size 432x288 with 1 Axes>"
      ]
     },
     "metadata": {
      "needs_background": "light"
     },
     "output_type": "display_data"
    }
   ],
   "source": [
    "sns.boxplot(user_rating['count'],showfliers=False, color='orange');"
   ]
  },
  {
   "cell_type": "code",
   "execution_count": 63,
   "metadata": {},
   "outputs": [
    {
     "data": {
      "text/html": [
       "<style  type=\"text/css\" >\n",
       "    #T_8f3ef290_8722_11ea_a4e2_9cb6d0e7d6d4row0_col0 {\n",
       "            background: Orange;\n",
       "        }    #T_8f3ef290_8722_11ea_a4e2_9cb6d0e7d6d4row1_col0 {\n",
       "            background: Orange;\n",
       "        }    #T_8f3ef290_8722_11ea_a4e2_9cb6d0e7d6d4row2_col0 {\n",
       "            background: Orange;\n",
       "        }    #T_8f3ef290_8722_11ea_a4e2_9cb6d0e7d6d4row3_col0 {\n",
       "            background: Orange;\n",
       "        }    #T_8f3ef290_8722_11ea_a4e2_9cb6d0e7d6d4row4_col0 {\n",
       "            background: Orange;\n",
       "        }    #T_8f3ef290_8722_11ea_a4e2_9cb6d0e7d6d4row5_col0 {\n",
       "            background: Orange;\n",
       "        }    #T_8f3ef290_8722_11ea_a4e2_9cb6d0e7d6d4row6_col0 {\n",
       "            background: Orange;\n",
       "        }    #T_8f3ef290_8722_11ea_a4e2_9cb6d0e7d6d4row7_col0 {\n",
       "            background: Orange;\n",
       "        }    #T_8f3ef290_8722_11ea_a4e2_9cb6d0e7d6d4row8_col0 {\n",
       "            background: Orange;\n",
       "        }    #T_8f3ef290_8722_11ea_a4e2_9cb6d0e7d6d4row9_col0 {\n",
       "            background: Orange;\n",
       "        }    #T_8f3ef290_8722_11ea_a4e2_9cb6d0e7d6d4row10_col0 {\n",
       "            background: Orange;\n",
       "        }    #T_8f3ef290_8722_11ea_a4e2_9cb6d0e7d6d4row11_col0 {\n",
       "            background: Orange;\n",
       "        }    #T_8f3ef290_8722_11ea_a4e2_9cb6d0e7d6d4row12_col0 {\n",
       "            background: Orange;\n",
       "        }</style><table id=\"T_8f3ef290_8722_11ea_a4e2_9cb6d0e7d6d4\" ><thead>    <tr>        <th class=\"blank level0\" ></th>        <th class=\"col_heading level0 col0\" >count</th>    </tr></thead><tbody>\n",
       "                <tr>\n",
       "                        <th id=\"T_8f3ef290_8722_11ea_a4e2_9cb6d0e7d6d4level0_row0\" class=\"row_heading level0 row0\" >1.0</th>\n",
       "                        <td id=\"T_8f3ef290_8722_11ea_a4e2_9cb6d0e7d6d4row0_col0\" class=\"data row0 col0\" >9254.000000</td>\n",
       "            </tr>\n",
       "            <tr>\n",
       "                        <th id=\"T_8f3ef290_8722_11ea_a4e2_9cb6d0e7d6d4level0_row1\" class=\"row_heading level0 row1\" >0.95</th>\n",
       "                        <td id=\"T_8f3ef290_8722_11ea_a4e2_9cb6d0e7d6d4row1_col0\" class=\"data row1 col0\" >520.000000</td>\n",
       "            </tr>\n",
       "            <tr>\n",
       "                        <th id=\"T_8f3ef290_8722_11ea_a4e2_9cb6d0e7d6d4level0_row2\" class=\"row_heading level0 row2\" >0.9</th>\n",
       "                        <td id=\"T_8f3ef290_8722_11ea_a4e2_9cb6d0e7d6d4row2_col0\" class=\"data row2 col0\" >334.000000</td>\n",
       "            </tr>\n",
       "            <tr>\n",
       "                        <th id=\"T_8f3ef290_8722_11ea_a4e2_9cb6d0e7d6d4level0_row3\" class=\"row_heading level0 row3\" >0.85</th>\n",
       "                        <td id=\"T_8f3ef290_8722_11ea_a4e2_9cb6d0e7d6d4row3_col0\" class=\"data row3 col0\" >246.000000</td>\n",
       "            </tr>\n",
       "            <tr>\n",
       "                        <th id=\"T_8f3ef290_8722_11ea_a4e2_9cb6d0e7d6d4level0_row4\" class=\"row_heading level0 row4\" >0.8</th>\n",
       "                        <td id=\"T_8f3ef290_8722_11ea_a4e2_9cb6d0e7d6d4row4_col0\" class=\"data row4 col0\" >193.000000</td>\n",
       "            </tr>\n",
       "            <tr>\n",
       "                        <th id=\"T_8f3ef290_8722_11ea_a4e2_9cb6d0e7d6d4level0_row5\" class=\"row_heading level0 row5\" >0.75</th>\n",
       "                        <td id=\"T_8f3ef290_8722_11ea_a4e2_9cb6d0e7d6d4row5_col0\" class=\"data row5 col0\" >155.000000</td>\n",
       "            </tr>\n",
       "            <tr>\n",
       "                        <th id=\"T_8f3ef290_8722_11ea_a4e2_9cb6d0e7d6d4level0_row6\" class=\"row_heading level0 row6\" >0.7</th>\n",
       "                        <td id=\"T_8f3ef290_8722_11ea_a4e2_9cb6d0e7d6d4row6_col0\" class=\"data row6 col0\" >127.000000</td>\n",
       "            </tr>\n",
       "            <tr>\n",
       "                        <th id=\"T_8f3ef290_8722_11ea_a4e2_9cb6d0e7d6d4level0_row7\" class=\"row_heading level0 row7\" >0.65</th>\n",
       "                        <td id=\"T_8f3ef290_8722_11ea_a4e2_9cb6d0e7d6d4row7_col0\" class=\"data row7 col0\" >108.000000</td>\n",
       "            </tr>\n",
       "            <tr>\n",
       "                        <th id=\"T_8f3ef290_8722_11ea_a4e2_9cb6d0e7d6d4level0_row8\" class=\"row_heading level0 row8\" >0.6</th>\n",
       "                        <td id=\"T_8f3ef290_8722_11ea_a4e2_9cb6d0e7d6d4row8_col0\" class=\"data row8 col0\" >93.000000</td>\n",
       "            </tr>\n",
       "            <tr>\n",
       "                        <th id=\"T_8f3ef290_8722_11ea_a4e2_9cb6d0e7d6d4level0_row9\" class=\"row_heading level0 row9\" >0.55</th>\n",
       "                        <td id=\"T_8f3ef290_8722_11ea_a4e2_9cb6d0e7d6d4row9_col0\" class=\"data row9 col0\" >79.000000</td>\n",
       "            </tr>\n",
       "            <tr>\n",
       "                        <th id=\"T_8f3ef290_8722_11ea_a4e2_9cb6d0e7d6d4level0_row10\" class=\"row_heading level0 row10\" >0.5</th>\n",
       "                        <td id=\"T_8f3ef290_8722_11ea_a4e2_9cb6d0e7d6d4row10_col0\" class=\"data row10 col0\" >68.000000</td>\n",
       "            </tr>\n",
       "            <tr>\n",
       "                        <th id=\"T_8f3ef290_8722_11ea_a4e2_9cb6d0e7d6d4level0_row11\" class=\"row_heading level0 row11\" >0.45</th>\n",
       "                        <td id=\"T_8f3ef290_8722_11ea_a4e2_9cb6d0e7d6d4row11_col0\" class=\"data row11 col0\" >59.000000</td>\n",
       "            </tr>\n",
       "            <tr>\n",
       "                        <th id=\"T_8f3ef290_8722_11ea_a4e2_9cb6d0e7d6d4level0_row12\" class=\"row_heading level0 row12\" >0.4</th>\n",
       "                        <td id=\"T_8f3ef290_8722_11ea_a4e2_9cb6d0e7d6d4row12_col0\" class=\"data row12 col0\" >51.000000</td>\n",
       "            </tr>\n",
       "            <tr>\n",
       "                        <th id=\"T_8f3ef290_8722_11ea_a4e2_9cb6d0e7d6d4level0_row13\" class=\"row_heading level0 row13\" >0.35</th>\n",
       "                        <td id=\"T_8f3ef290_8722_11ea_a4e2_9cb6d0e7d6d4row13_col0\" class=\"data row13 col0\" >45.000000</td>\n",
       "            </tr>\n",
       "            <tr>\n",
       "                        <th id=\"T_8f3ef290_8722_11ea_a4e2_9cb6d0e7d6d4level0_row14\" class=\"row_heading level0 row14\" >0.3</th>\n",
       "                        <td id=\"T_8f3ef290_8722_11ea_a4e2_9cb6d0e7d6d4row14_col0\" class=\"data row14 col0\" >39.000000</td>\n",
       "            </tr>\n",
       "            <tr>\n",
       "                        <th id=\"T_8f3ef290_8722_11ea_a4e2_9cb6d0e7d6d4level0_row15\" class=\"row_heading level0 row15\" >0.25</th>\n",
       "                        <td id=\"T_8f3ef290_8722_11ea_a4e2_9cb6d0e7d6d4row15_col0\" class=\"data row15 col0\" >35.000000</td>\n",
       "            </tr>\n",
       "            <tr>\n",
       "                        <th id=\"T_8f3ef290_8722_11ea_a4e2_9cb6d0e7d6d4level0_row16\" class=\"row_heading level0 row16\" >0.2</th>\n",
       "                        <td id=\"T_8f3ef290_8722_11ea_a4e2_9cb6d0e7d6d4row16_col0\" class=\"data row16 col0\" >30.000000</td>\n",
       "            </tr>\n",
       "            <tr>\n",
       "                        <th id=\"T_8f3ef290_8722_11ea_a4e2_9cb6d0e7d6d4level0_row17\" class=\"row_heading level0 row17\" >0.15</th>\n",
       "                        <td id=\"T_8f3ef290_8722_11ea_a4e2_9cb6d0e7d6d4row17_col0\" class=\"data row17 col0\" >27.000000</td>\n",
       "            </tr>\n",
       "            <tr>\n",
       "                        <th id=\"T_8f3ef290_8722_11ea_a4e2_9cb6d0e7d6d4level0_row18\" class=\"row_heading level0 row18\" >0.1</th>\n",
       "                        <td id=\"T_8f3ef290_8722_11ea_a4e2_9cb6d0e7d6d4row18_col0\" class=\"data row18 col0\" >24.000000</td>\n",
       "            </tr>\n",
       "            <tr>\n",
       "                        <th id=\"T_8f3ef290_8722_11ea_a4e2_9cb6d0e7d6d4level0_row19\" class=\"row_heading level0 row19\" >0.05</th>\n",
       "                        <td id=\"T_8f3ef290_8722_11ea_a4e2_9cb6d0e7d6d4row19_col0\" class=\"data row19 col0\" >21.000000</td>\n",
       "            </tr>\n",
       "    </tbody></table>"
      ],
      "text/plain": [
       "<pandas.io.formats.style.Styler at 0x23f95b70608>"
      ]
     },
     "execution_count": 63,
     "metadata": {},
     "output_type": "execute_result"
    }
   ],
   "source": [
    "# Active users dataframe from earlier\n",
    "pd.DataFrame(user_rating['count'].quantile(np.round(np.arange(1,0,-0.05),2)))\\\n",
    ".style.apply(lambda x: ['background:Orange' if v>=50 else '' for v in x])"
   ]
  },
  {
   "cell_type": "code",
   "execution_count": 68,
   "metadata": {},
   "outputs": [
    {
     "data": {
      "text/plain": [
       "85307"
      ]
     },
     "execution_count": 68,
     "metadata": {},
     "output_type": "execute_result"
    }
   ],
   "source": [
    "len(user_rating[user_rating['count']>=50])#/len(user_rating)"
   ]
  },
  {
   "cell_type": "markdown",
   "metadata": {},
   "source": [
    "50% of the users have rated around 68 or less movies, if we consider number of rating threshold to be 50 (i.e. user that have rated atleast 50 movies), it would roughly cover around 60% of the users (around 85307 users out of 138493 users)."
   ]
  },
  {
   "cell_type": "code",
   "execution_count": 8,
   "metadata": {},
   "outputs": [
    {
     "data": {
      "text/html": [
       "<div>\n",
       "<style scoped>\n",
       "    .dataframe tbody tr th:only-of-type {\n",
       "        vertical-align: middle;\n",
       "    }\n",
       "\n",
       "    .dataframe tbody tr th {\n",
       "        vertical-align: top;\n",
       "    }\n",
       "\n",
       "    .dataframe thead th {\n",
       "        text-align: right;\n",
       "    }\n",
       "</style>\n",
       "<table border=\"1\" class=\"dataframe\">\n",
       "  <thead>\n",
       "    <tr style=\"text-align: right;\">\n",
       "      <th></th>\n",
       "      <th>userId</th>\n",
       "      <th>movieId</th>\n",
       "      <th>rating</th>\n",
       "      <th>timestamp</th>\n",
       "      <th>title</th>\n",
       "      <th>genres</th>\n",
       "    </tr>\n",
       "  </thead>\n",
       "  <tbody>\n",
       "    <tr>\n",
       "      <th>0</th>\n",
       "      <td>1</td>\n",
       "      <td>2</td>\n",
       "      <td>3.5</td>\n",
       "      <td>2005-04-02 23:53:47</td>\n",
       "      <td>Jumanji (1995)</td>\n",
       "      <td>Adventure|Children|Fantasy</td>\n",
       "    </tr>\n",
       "    <tr>\n",
       "      <th>1</th>\n",
       "      <td>5</td>\n",
       "      <td>2</td>\n",
       "      <td>3.0</td>\n",
       "      <td>1996-12-25 15:26:09</td>\n",
       "      <td>Jumanji (1995)</td>\n",
       "      <td>Adventure|Children|Fantasy</td>\n",
       "    </tr>\n",
       "    <tr>\n",
       "      <th>2</th>\n",
       "      <td>13</td>\n",
       "      <td>2</td>\n",
       "      <td>3.0</td>\n",
       "      <td>1996-11-27 08:19:02</td>\n",
       "      <td>Jumanji (1995)</td>\n",
       "      <td>Adventure|Children|Fantasy</td>\n",
       "    </tr>\n",
       "    <tr>\n",
       "      <th>3</th>\n",
       "      <td>29</td>\n",
       "      <td>2</td>\n",
       "      <td>3.0</td>\n",
       "      <td>1996-06-23 20:36:14</td>\n",
       "      <td>Jumanji (1995)</td>\n",
       "      <td>Adventure|Children|Fantasy</td>\n",
       "    </tr>\n",
       "    <tr>\n",
       "      <th>4</th>\n",
       "      <td>34</td>\n",
       "      <td>2</td>\n",
       "      <td>3.0</td>\n",
       "      <td>1996-10-28 13:29:44</td>\n",
       "      <td>Jumanji (1995)</td>\n",
       "      <td>Adventure|Children|Fantasy</td>\n",
       "    </tr>\n",
       "  </tbody>\n",
       "</table>\n",
       "</div>"
      ],
      "text/plain": [
       "   userId  movieId  rating            timestamp           title  \\\n",
       "0       1        2     3.5  2005-04-02 23:53:47  Jumanji (1995)   \n",
       "1       5        2     3.0  1996-12-25 15:26:09  Jumanji (1995)   \n",
       "2      13        2     3.0  1996-11-27 08:19:02  Jumanji (1995)   \n",
       "3      29        2     3.0  1996-06-23 20:36:14  Jumanji (1995)   \n",
       "4      34        2     3.0  1996-10-28 13:29:44  Jumanji (1995)   \n",
       "\n",
       "                       genres  \n",
       "0  Adventure|Children|Fantasy  \n",
       "1  Adventure|Children|Fantasy  \n",
       "2  Adventure|Children|Fantasy  \n",
       "3  Adventure|Children|Fantasy  \n",
       "4  Adventure|Children|Fantasy  "
      ]
     },
     "execution_count": 8,
     "metadata": {},
     "output_type": "execute_result"
    }
   ],
   "source": [
    "mov_rating = ratings.merge(movie, on='movieId')\n",
    "mov_rating.head()"
   ]
  },
  {
   "cell_type": "code",
   "execution_count": 9,
   "metadata": {},
   "outputs": [],
   "source": [
    "Threshold = 50"
   ]
  },
  {
   "cell_type": "code",
   "execution_count": 10,
   "metadata": {},
   "outputs": [],
   "source": [
    "popular_movies = list(avg_rating[avg_rating['num_rating']>=Threshold]['movieId'].values)\n",
    "active_users = list(user_rating[user_rating['count']>=Threshold]['userId'].values)"
   ]
  },
  {
   "cell_type": "code",
   "execution_count": 11,
   "metadata": {},
   "outputs": [],
   "source": [
    "data = mov_rating[(mov_rating['movieId'].isin(popular_movies)) & (mov_rating['userId'].isin(active_users))]"
   ]
  },
  {
   "cell_type": "code",
   "execution_count": 12,
   "metadata": {},
   "outputs": [],
   "source": [
    "matrix = pd.pivot_table(data, values='rating', columns='title', index='userId')"
   ]
  },
  {
   "cell_type": "code",
   "execution_count": 12,
   "metadata": {},
   "outputs": [
    {
     "data": {
      "text/plain": [
       "title\n",
       "Toy Story (1995)                                  1.000000\n",
       "Toy Story 2 (1999)                                0.740931\n",
       "Paint It Yellow (Rang De Basanti) (2006)          0.687487\n",
       "Paddington (2014)                                 0.663923\n",
       "Tangled Ever After (2012)                         0.662054\n",
       "                                                    ...   \n",
       "Roommate, The (2011)                             -0.415959\n",
       "Seventh Heaven (Septième ciel, Le) (1997)        -0.431065\n",
       "10th & Wolf (2006)                               -0.441907\n",
       "Poultrygeist: Night of the Chicken Dead (2006)   -0.487570\n",
       "Company Man (2000)                               -0.595529\n",
       "Length: 10523, dtype: float64"
      ]
     },
     "execution_count": 12,
     "metadata": {},
     "output_type": "execute_result"
    }
   ],
   "source": [
    "#quick check to find similar movies. \n",
    "matrix.corrwith(matrix[\"Toy Story (1995)\"]).sort_values(ascending=False)"
   ]
  },
  {
   "cell_type": "code",
   "execution_count": 13,
   "metadata": {},
   "outputs": [],
   "source": [
    "sparse_matrix = csr_matrix(matrix.fillna(0))"
   ]
  },
  {
   "cell_type": "code",
   "execution_count": 311,
   "metadata": {},
   "outputs": [
    {
     "data": {
      "text/plain": [
       "NearestNeighbors(algorithm='brute', leaf_size=30, metric='cosine',\n",
       "                 metric_params=None, n_jobs=-1, n_neighbors=20, p=2,\n",
       "                 radius=1.0)"
      ]
     },
     "execution_count": 311,
     "metadata": {},
     "output_type": "execute_result"
    }
   ],
   "source": [
    "model_knn = NearestNeighbors(metric='cosine', algorithm='brute', n_neighbors=20, n_jobs=-1)\n",
    "# fit\n",
    "model_knn.fit(sparse_matrix.T) # Transpose of matrix since we want to make predictions/recommendations against movies. \n",
    "# So each row is a movie and columns as users\n"
   ]
  },
  {
   "cell_type": "code",
   "execution_count": 312,
   "metadata": {},
   "outputs": [],
   "source": [
    "mapper1 = {movie :i for i, movie in enumerate(matrix.columns)} # mapper to map movie names to index to be used with sparse matrix. \n",
    "# Index would remain the same even if movie columns are transposed to indicies since number is the same "
   ]
  },
  {
   "cell_type": "code",
   "execution_count": 353,
   "metadata": {},
   "outputs": [],
   "source": [
    "def CFRecommender(model, data, idd):\n",
    "    \n",
    "    model.fit(data)\n",
    "    distance, idx = model.kneighbors(data[idd],n_neighbors=11)\n",
    "    # this returns the index and distance of 'n' nearest neighbours to the provided index of movie (idd)\n",
    "    \n",
    "    id_dist = sorted(list(zip(idx[0].tolist(), distance[0].tolist())), key=lambda x: x[1], reverse=False)[1:]\n",
    "    \n",
    "    mapper2 = {i:m for m,i in mapper1.items()}\n",
    "    \n",
    "    for j, (i, d) in enumerate(id_dist):\n",
    "        print('{0}: {1}, with distance of {2}'.format(j+1, mapper2[i], round(d,2)))\n",
    "        "
   ]
  },
  {
   "cell_type": "code",
   "execution_count": 354,
   "metadata": {},
   "outputs": [
    {
     "name": "stdout",
     "output_type": "stream",
     "text": [
      "Please Enter Movie Name for Recommendations:Star Wars: Episode IV\n",
      "\n",
      "\n",
      "Movies similar to Star Wars: Episode IV - A New Hope (1977) at index 8849\n",
      "----------------------------------------\n",
      "1: Star Wars: Episode V - The Empire Strikes Back (1980), with distance of 0.15\n",
      "2: Star Wars: Episode VI - Return of the Jedi (1983), with distance of 0.17\n",
      "3: Raiders of the Lost Ark (Indiana Jones and the Raiders of the Lost Ark) (1981), with distance of 0.26\n",
      "4: Back to the Future (1985), with distance of 0.32\n",
      "5: Indiana Jones and the Last Crusade (1989), with distance of 0.33\n",
      "6: Terminator, The (1984), with distance of 0.33\n",
      "7: Matrix, The (1999), with distance of 0.33\n",
      "8: Alien (1979), with distance of 0.36\n",
      "9: Terminator 2: Judgment Day (1991), with distance of 0.36\n",
      "10: Jurassic Park (1993), with distance of 0.37\n"
     ]
    }
   ],
   "source": [
    "m = str(input(\"Please Enter Movie Name for Recommendations:\"))\n",
    "im, idd, _ = title_lookup(name=m, mapper=mapper1)[0]\n",
    "if im == 'No Match Found':\n",
    "    print(im)\n",
    "else:\n",
    "    print('\\n')\n",
    "    print('Movies similar to {} at index {}'.format(im,idd))\n",
    "    print('--'*20)\n",
    "    CFRecommender(model = model_knn, data=sparse_matrix.T, idd=idd)"
   ]
  },
  {
   "cell_type": "code",
   "execution_count": 180,
   "metadata": {},
   "outputs": [
    {
     "name": "stdout",
     "output_type": "stream",
     "text": [
      "Total number of missing enteries in the dataset : 97.97%\n"
     ]
    }
   ],
   "source": [
    "## Sparsity of the dataset: \n",
    "\n",
    "nullcount = matrix.isna().sum().sum()\n",
    "notnullcount = matrix.notnull().sum().sum()\n",
    "\n",
    "total_enteries = matrix.shape[0] * matrix.shape[1]\n",
    "\n",
    "print('Total number of missing enteries in the dataset : {:.2%}'.format(nullcount/total_enteries))"
   ]
  },
  {
   "cell_type": "markdown",
   "metadata": {},
   "source": [
    "### Model Based Collaborative Filtering \n",
    "\n",
    "This will use matrix factorization to represent our movie, user matrix. \n",
    "\n",
    "SVD is used to do the matrix factorization\n",
    "\n",
    "A = U.Σ.V(T)\n",
    "\n",
    "where\n",
    "U is left singular orthogonal matrix (eigenvector) \n",
    "V(T) is transpose of V, right singular orthogonal matrix (eigenvector)\n",
    "Σ is a diagonal vector with squareroot of eigenvalues at the diagonal\n",
    "\n",
    "U represents the feature vectors of users, V represents the feature vectors of the items/movies. \n",
    "These are latent features and not entirely evident like for movies it could be how much it's action or comedy etc. \n",
    "\n",
    "The eigenvectors of AT.A make up the columns of V , the eigenvectors of A.AT  make up the columns of U.\n",
    "\n",
    "More at: https://web.mit.edu/be.400/www/SVD/Singular_Value_Decomposition.htm\n",
    "\n",
    "However since we a heavily sparse matrix we can't use SVD off the shelf. \n",
    "\n",
    "---\n"
   ]
  },
  {
   "attachments": {
    "funksvd%20cost%20function.PNG": {
     "image/png": "[encoded data removed]"
    },
    "pu%20update.PNG": {
     "image/png": "[encoded data removed]"
    },
    "qi%20update.PNG": {
     "image/png": "[encoded data removed]"
    }
   },
   "cell_type": "markdown",
   "metadata": {},
   "source": [
    "#### Algorithm : FunkSVD\n",
    "\n",
    "So in order to use SVD to make recommendation we need to find the latent feature parameters for both User and Movies Dataset. \n",
    "\n",
    "1. We can use our user-movie matrix with non-missing values to train our parameters. So minimize the cost function with regularization applied. \n",
    "\n",
    "![funksvd%20cost%20function.PNG](attachment:funksvd%20cost%20function.PNG)\n",
    "\n",
    "where:\n",
    "P is latent user feature matrix\n",
    "Q is latent item feature Matrix\n",
    "K is the set of user,item pairs\n",
    "r(u,i) is the rating for item i by user u\n",
    "λ is the regularization term \n",
    "\n",
    "2. To find the latent paramters that minimize the cost function we will use Stchoastic Gradient Descen. Partial derivate of the cost function w.r.t to each latent feature (Q and P) and update the parameters at each step. \n",
    "Without regularization it looks like: \n",
    "\n",
    "![qi%20update.PNG](attachment:qi%20update.PNG)\n",
    "![pu%20update.PNG](attachment:pu%20update.PNG)\n",
    "\n",
    "\n",
    "3. Update the parameters simultaneously for the given number of cycles (epochs). \n",
    "\n",
    "once we have the learned latent features we can use it to make predictions. \n",
    "\n",
    "\n",
    "Reference: \n",
    "\n",
    "https://towardsdatascience.com/music-artist-recommender-system-using-stochastic-gradient-descent-machine-learning-from-scratch-5f2f1aae972c\n",
    "\n",
    "https://www.coursera.org/lecture/matrix-factorization/deriving-funksvd-lyTpD\n",
    "\n",
    "Simon Funk blog: https://sifter.org/~simon/journal/20061211.html\n",
    "\n",
    "https://medium.com/datadriveninvestor/how-funk-singular-value-decomposition-algorithm-work-in-recommendation-engines-36f2fbf62cac\n",
    "\n",
    "http://nicolas-hug.com/blog/matrix_facto_3\n"
   ]
  },
  {
   "cell_type": "code",
   "execution_count": 14,
   "metadata": {},
   "outputs": [],
   "source": [
    "matrix_ = matrix.fillna(0).values"
   ]
  },
  {
   "cell_type": "code",
   "execution_count": 15,
   "metadata": {},
   "outputs": [],
   "source": [
    "MIN_USER_RATINGS = 35\n",
    "DELETE_RATING_COUNT = 15\n",
    "\n",
    "def train_test_split(matrix_):\n",
    "    '''\n",
    "    Takes the user-movie raw matrix. Forms two matrices of same size: train and validation\n",
    "    For every user that has more than 35 ratings, randomly select 15 of those ratings and\n",
    "    make them zero in training set and copy original ratings to validation set. \n",
    "    '''\n",
    "    validation = np.zeros(matrix_.shape)\n",
    "    train = matrix_.copy()\n",
    "    \n",
    "    for user in np.arange(matrix_.shape[0]):\n",
    "        if len(matrix_[user,:].nonzero()[0]) >= MIN_USER_RATINGS:\n",
    "            val_ratings = np.random.choice(\n",
    "                matrix_[user, :].nonzero()[0], \n",
    "                size=DELETE_RATING_COUNT,\n",
    "                replace=False\n",
    "            )\n",
    "            train[user, val_ratings] = 0\n",
    "            validation[user, val_ratings] = matrix_[user, val_ratings]\n",
    "    return train, validation"
   ]
  },
  {
   "cell_type": "code",
   "execution_count": 16,
   "metadata": {},
   "outputs": [],
   "source": [
    "train, val = train_test_split(matrix_)"
   ]
  },
  {
   "cell_type": "code",
   "execution_count": 23,
   "metadata": {},
   "outputs": [
    {
     "data": {
      "text/plain": [
       "(85307, 10523)"
      ]
     },
     "execution_count": 23,
     "metadata": {},
     "output_type": "execute_result"
    }
   ],
   "source": [
    "val.shape"
   ]
  },
  {
   "cell_type": "code",
   "execution_count": 17,
   "metadata": {},
   "outputs": [],
   "source": [
    "from sklearn.metrics import mean_squared_error\n",
    "from math import sqrt"
   ]
  },
  {
   "cell_type": "code",
   "execution_count": 18,
   "metadata": {},
   "outputs": [],
   "source": [
    "def rmse(prediction, ground_truth):\n",
    "    prediction = prediction[ground_truth.nonzero()].flatten() \n",
    "    ground_truth = ground_truth[ground_truth.nonzero()].flatten()\n",
    "    return sqrt(mean_squared_error(prediction, ground_truth))"
   ]
  },
  {
   "cell_type": "code",
   "execution_count": 19,
   "metadata": {},
   "outputs": [],
   "source": [
    "class Recommender:\n",
    "    \n",
    "    def __init__(self, n_epochs=100, n_latent_features=3, lmbda=0.1, learning_rate=0.001):\n",
    "        self.n_epochs = n_epochs\n",
    "        self.n_latent_features = n_latent_features\n",
    "        self.lmbda = lmbda\n",
    "        self.learning_rate = learning_rate\n",
    "\n",
    "    def predictions(self, P, Q):\n",
    "        return np.dot(P.T, Q)\n",
    "\n",
    "    def fit(self, X_train, X_val):\n",
    "        m, n = X_train.shape\n",
    "\n",
    "        self.P = 3 * np.random.rand(self.n_latent_features, m)\n",
    "        self.Q = 3 * np.random.rand(self.n_latent_features, n)\n",
    "\n",
    "        self.train_error = []\n",
    "        self.val_error = []\n",
    "\n",
    "        users, items = X_train.nonzero()\n",
    "\n",
    "        for epoch in range(self.n_epochs):\n",
    "            for u, i in zip(users, items):\n",
    "                error = X_train[u, i] - self.predictions(self.P[:,u], self.Q[:,i])\n",
    "                self.P[:, u] += self.learning_rate * (error * self.Q[:, i] - self.lmbda * self.P[:, u])\n",
    "                self.Q[:, i] += self.learning_rate * (error * self.P[:, u] - self.lmbda * self.Q[:, i])\n",
    "\n",
    "            train_rmse = rmse(self.predictions(self.P, self.Q), X_train)\n",
    "            val_rmse = rmse(self.predictions(self.P, self.Q), X_val)\n",
    "            self.train_error.append(train_rmse)\n",
    "            self.val_error.append(val_rmse)\n",
    "\n",
    "        return self\n",
    "\n",
    "    def predict(self, X_train, user_index):\n",
    "        y_hat = self.predictions(self.P, self.Q)\n",
    "        predictions_index = np.where(X_train[user_index, :] == 0)[0]\n",
    "        return y_hat[user_index, predictions_index].flatten()"
   ]
  },
  {
   "cell_type": "code",
   "execution_count": 27,
   "metadata": {},
   "outputs": [],
   "source": [
    "recommender = Recommender(n_epochs=15).fit(train, val)\n",
    "np.savetxt('P_matrix.csv',recommender.P,delimiter = ',')\n",
    "np.savetxt('Q_matrix.csv',recommender.Q,delimiter = ',')"
   ]
  },
  {
   "cell_type": "code",
   "execution_count": 28,
   "metadata": {},
   "outputs": [
    {
     "data": {
      "image/png": "[encoded data removed]",
      "text/plain": [
       "<Figure size 432x288 with 1 Axes>"
      ]
     },
     "metadata": {
      "needs_background": "light"
     },
     "output_type": "display_data"
    }
   ],
   "source": [
    "plt.plot(range(recommender.n_epochs), recommender.train_error, marker='o', label='Training Data');\n",
    "plt.plot(range(recommender.n_epochs), recommender.val_error, marker='v', label='Validation Data');\n",
    "plt.xlabel('Number of Epochs');\n",
    "plt.ylabel('RMSE');\n",
    "plt.legend()\n",
    "plt.grid()\n",
    "plt.show()"
   ]
  },
  {
   "cell_type": "code",
   "execution_count": 29,
   "metadata": {},
   "outputs": [],
   "source": [
    "pred = np.dot(recommender.P.T,recommender.Q)"
   ]
  },
  {
   "cell_type": "code",
   "execution_count": 156,
   "metadata": {},
   "outputs": [
    {
     "data": {
      "text/plain": [
       "(85307, 10523)"
      ]
     },
     "execution_count": 156,
     "metadata": {},
     "output_type": "execute_result"
    }
   ],
   "source": [
    "matrix.shape"
   ]
  },
  {
   "cell_type": "code",
   "execution_count": 30,
   "metadata": {},
   "outputs": [
    {
     "data": {
      "text/plain": [
       "(85307, 10523)"
      ]
     },
     "execution_count": 30,
     "metadata": {},
     "output_type": "execute_result"
    }
   ],
   "source": [
    "pred.shape"
   ]
  },
  {
   "cell_type": "code",
   "execution_count": 20,
   "metadata": {},
   "outputs": [],
   "source": [
    "P = pd.read_csv('P_matrix.csv', header=None)\n",
    "Q = pd.read_csv('Q_matrix.csv', header=None)\n",
    "pred = np.dot(P.values.T,Q.values)"
   ]
  },
  {
   "cell_type": "code",
   "execution_count": 24,
   "metadata": {},
   "outputs": [],
   "source": [
    "pred_mat = pd.DataFrame(data=pred, index=matrix.index , columns=matrix.columns)"
   ]
  },
  {
   "cell_type": "code",
   "execution_count": 157,
   "metadata": {},
   "outputs": [
    {
     "name": "stdout",
     "output_type": "stream",
     "text": [
      "minimum rating is -1.8912999005085227 and max rating is 9.022478477781952 in prediction data set\n"
     ]
    }
   ],
   "source": [
    "# mmax = pred_mat.max().max()\n",
    "# mmin = pred_mat.min().min()\n",
    "print('minimum rating is {} and max rating is {} in prediction data set'.format(mmin,mmax))"
   ]
  },
  {
   "cell_type": "markdown",
   "metadata": {},
   "source": [
    "Beacuase our P and Q matrices were initialized in such a way their product yields max and min value which doesn't align with our ratings peak values (0 to 5). \n",
    "This issue would have resolved itself if we had trained our model for longer, since we only trained for 15 epochs due to very large dataset (over 16milion rating enteries) it's very computationally expensive. \n",
    "We will hence define a custom scaler function to align predicted ratings to our scale. This isn't the ideal solution and we should really let it train for longer. "
   ]
  },
  {
   "cell_type": "code",
   "execution_count": 143,
   "metadata": {},
   "outputs": [],
   "source": [
    "def scaler(value):\n",
    "    \n",
    "    scaled = (5 - 0)/ (mmax-mmin) * (value - mmax) + 5\n",
    "    return round(scaled,1)"
   ]
  },
  {
   "cell_type": "code",
   "execution_count": 152,
   "metadata": {},
   "outputs": [],
   "source": [
    "# pred_scaled = pred_mat.apply(lambda x: scaler(x))"
   ]
  },
  {
   "cell_type": "markdown",
   "metadata": {},
   "source": [
    "lets examine a users rating, pick randing users that has good number of ratings. "
   ]
  },
  {
   "cell_type": "code",
   "execution_count": 154,
   "metadata": {},
   "outputs": [],
   "source": [
    "def user_recom(userID, n=10):\n",
    "    \n",
    "    userIndex = matrix.index.get_loc(userID)\n",
    "    tempuser = matrix.iloc[userIndex]\n",
    "    \n",
    "    print('Top 10 favourite movies of the User: ', userID)\n",
    "    print('--'*25)\n",
    "    print(tempuser[tempuser.notnull()].sort_values(ascending=False).head(10))\n",
    "    \n",
    "    #list of not rated movies of the user\n",
    "    unrated_list = tempuser[tempuser.isna()].index\n",
    "    \n",
    "    #predicted ratings for the user\n",
    "    p_user = pred_scaled.iloc[userIndex]\n",
    "    print('\\n')\n",
    "    print('Top {} recommendation for the user {} '.format(n,userID))\n",
    "    print('--'*25)\n",
    "    print(p_user[p_user.index.isin(unrated_list)].sort_values(ascending=False).head(n))\n",
    "    "
   ]
  },
  {
   "cell_type": "code",
   "execution_count": 159,
   "metadata": {},
   "outputs": [
    {
     "data": {
      "text/html": [
       "<div>\n",
       "<style scoped>\n",
       "    .dataframe tbody tr th:only-of-type {\n",
       "        vertical-align: middle;\n",
       "    }\n",
       "\n",
       "    .dataframe tbody tr th {\n",
       "        vertical-align: top;\n",
       "    }\n",
       "\n",
       "    .dataframe thead th {\n",
       "        text-align: right;\n",
       "    }\n",
       "</style>\n",
       "<table border=\"1\" class=\"dataframe\">\n",
       "  <thead>\n",
       "    <tr style=\"text-align: right;\">\n",
       "      <th></th>\n",
       "      <th>userId</th>\n",
       "      <th>count</th>\n",
       "      <th>mean</th>\n",
       "    </tr>\n",
       "  </thead>\n",
       "  <tbody>\n",
       "    <tr>\n",
       "      <th>0</th>\n",
       "      <td>118205</td>\n",
       "      <td>9254</td>\n",
       "      <td>3.279069</td>\n",
       "    </tr>\n",
       "    <tr>\n",
       "      <th>1</th>\n",
       "      <td>8405</td>\n",
       "      <td>7515</td>\n",
       "      <td>3.208317</td>\n",
       "    </tr>\n",
       "    <tr>\n",
       "      <th>2</th>\n",
       "      <td>82418</td>\n",
       "      <td>5646</td>\n",
       "      <td>3.516915</td>\n",
       "    </tr>\n",
       "    <tr>\n",
       "      <th>3</th>\n",
       "      <td>121535</td>\n",
       "      <td>5520</td>\n",
       "      <td>2.793116</td>\n",
       "    </tr>\n",
       "    <tr>\n",
       "      <th>4</th>\n",
       "      <td>125794</td>\n",
       "      <td>5491</td>\n",
       "      <td>3.762976</td>\n",
       "    </tr>\n",
       "  </tbody>\n",
       "</table>\n",
       "</div>"
      ],
      "text/plain": [
       "   userId  count      mean\n",
       "0  118205   9254  3.279069\n",
       "1    8405   7515  3.208317\n",
       "2   82418   5646  3.516915\n",
       "3  121535   5520  2.793116\n",
       "4  125794   5491  3.762976"
      ]
     },
     "execution_count": 159,
     "metadata": {},
     "output_type": "execute_result"
    }
   ],
   "source": [
    "user_rating.head()"
   ]
  },
  {
   "cell_type": "code",
   "execution_count": 115,
   "metadata": {},
   "outputs": [
    {
     "name": "stdout",
     "output_type": "stream",
     "text": [
      "Top 10 favourite movies of the User:  118205\n",
      "--------------------------------------------------\n",
      "title\n",
      "Field of Dreams (1989)                      5.0\n",
      "Treasure of the Sierra Madre, The (1948)    5.0\n",
      "Dark Knight Rises, The (2012)               5.0\n",
      "Shane (1953)                                5.0\n",
      "Citizen Kane (1941)                         5.0\n",
      "Ox-Bow Incident, The (1943)                 5.0\n",
      "Beautiful Mind, A (2001)                    5.0\n",
      "American in Paris, An (1951)                5.0\n",
      "All Quiet on the Western Front (1930)       5.0\n",
      "Singin' in the Rain (1952)                  5.0\n",
      "Name: 118205, dtype: float64\n",
      "\n",
      "\n",
      "Top 10 recommendation for the user 118205 \n",
      "--------------------------------------------------\n",
      "title\n",
      "Human Condition III, The (Ningen no joken III) (1961)      4.087467\n",
      "Human Condition II, The (Ningen no joken II) (1959)        4.073127\n",
      "Song of the Little Road (Pather Panchali) (1955)           4.047816\n",
      "Bill Hicks: Revelations (1993)                             4.034019\n",
      "Ordet (Word, The) (1955)                                   4.023191\n",
      "Fawlty Towers (1975-1979)                                  4.021469\n",
      "Cosmos (1980)                                              4.010542\n",
      "Black Mirror (2011)                                        3.996345\n",
      "Human Condition I, The (Ningen no joken I) (1959)          3.979398\n",
      "Short Film About Love, A (Krótki film o milosci) (1988)    3.976035\n",
      "Name: 118205, dtype: float64\n"
     ]
    }
   ],
   "source": [
    "user_recom(118205,10)"
   ]
  },
  {
   "cell_type": "code",
   "execution_count": 163,
   "metadata": {},
   "outputs": [
    {
     "data": {
      "text/plain": [
       "1899"
      ]
     },
     "execution_count": 163,
     "metadata": {},
     "output_type": "execute_result"
    }
   ],
   "source": [
    "user_rating.sample()['userId'].values[0]"
   ]
  },
  {
   "cell_type": "code",
   "execution_count": 164,
   "metadata": {},
   "outputs": [
    {
     "name": "stdout",
     "output_type": "stream",
     "text": [
      "Top 10 favourite movies of the User:  1899\n",
      "--------------------------------------------------\n",
      "title\n",
      "Woodstock (1970)               5.0\n",
      "Secretary (2002)               5.0\n",
      "Being There (1979)             5.0\n",
      "Bend It Like Beckham (2002)    5.0\n",
      "Caine Mutiny, The (1954)       5.0\n",
      "Casablanca (1942)              5.0\n",
      "Citizen Kane (1941)            5.0\n",
      "Dangerous Liaisons (1988)      5.0\n",
      "Dead Poets Society (1989)      5.0\n",
      "High Noon (1952)               5.0\n",
      "Name: 1899, dtype: float64\n",
      "\n",
      "\n",
      "Top 10 recommendation for the user 1899 \n",
      "--------------------------------------------------\n",
      "title\n",
      "Kid Brother, The (1927)                     3.3\n",
      "Quai des Orfèvres (Jenny Lamour) (1947)     3.2\n",
      "Westerner, The (1940)                       3.2\n",
      "Pervert's Guide to Ideology, The (2012)     3.2\n",
      "Right at Your Door (2006)                   3.1\n",
      "Method, The (Método, El) (2005)             3.1\n",
      "Pusher II: With Blood on My Hands (2004)    3.1\n",
      "Way Out West (1937)                         3.1\n",
      "Company You Keep, The (2012)                3.1\n",
      "Tim's Vermeer (2013)                        3.1\n",
      "Name: 1899, dtype: float64\n"
     ]
    }
   ],
   "source": [
    "user_recom(1899,10)"
   ]
  },
  {
   "cell_type": "markdown",
   "metadata": {},
   "source": [
    "To find similar movies to each other we can use correlation matric (pearson's correlation) against our predicted dataset. "
   ]
  },
  {
   "cell_type": "code",
   "execution_count": 36,
   "metadata": {},
   "outputs": [
    {
     "data": {
      "text/plain": [
       "title\n",
       "Toy Story (1995)                                 1.000000\n",
       "Departures (Okuribito) (2008)                    0.999987\n",
       "Stealing Home (1988)                             0.999984\n",
       "Career Girls (1997)                              0.999984\n",
       "Blame It on Rio (1984)                           0.999981\n",
       "                                                   ...   \n",
       "Sharknado (2013)                                 0.155335\n",
       "Sprung (1997)                                    0.154551\n",
       "Beast of Yucca Flats, The (1961)                 0.143288\n",
       "Death Ship (1980)                                0.142618\n",
       "Revenge of the Nerds IV: Nerds in Love (1994)    0.141389\n",
       "Length: 10523, dtype: float64"
      ]
     },
     "execution_count": 36,
     "metadata": {},
     "output_type": "execute_result"
    }
   ],
   "source": [
    "pred_mat.corrwith(pred_mat[\"Toy Story (1995)\"]).sort_values(ascending=False)"
   ]
  },
  {
   "cell_type": "code",
   "execution_count": null,
   "metadata": {},
   "outputs": [],
   "source": []
  }
 ],
 "metadata": {
  "kernelspec": {
   "display_name": "Python 3",
   "language": "python",
   "name": "python3"
  },
  "language_info": {
   "codemirror_mode": {
    "name": "ipython",
    "version": 3
   },
   "file_extension": ".py",
   "mimetype": "text/x-python",
   "name": "python",
   "nbconvert_exporter": "python",
   "pygments_lexer": "ipython3",
   "version": "3.7.7"
  }
 },
 "nbformat": 4,
 "nbformat_minor": 4
}
